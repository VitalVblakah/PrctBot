{
  "cells": [
    {
      "cell_type": "code",
      "source": "import sqlite3\nimport random",
      "metadata": {
        "source_hash": null,
        "execution_start": 1693774513014,
        "execution_millis": 8,
        "deepnote_to_be_reexecuted": false,
        "cell_id": "d648749c26384e15b107134daa8c7044",
        "deepnote_cell_type": "code"
      },
      "outputs": [],
      "execution_count": null,
      "block_group": "acca3a374ce443bda7175f96cdd53733"
    },
    {
      "cell_type": "code",
      "source": "conn = sqlite3.connect('questions.db')\ncur = conn.cursor()\nfrom pylatex import Document, Section, Subsection, Command, Math\nfrom pylatex.utils import NoEscape",
      "metadata": {
        "source_hash": null,
        "execution_start": 1693774513018,
        "execution_millis": 19,
        "deepnote_to_be_reexecuted": false,
        "cell_id": "9584ea564b10414ea44de496cff02047",
        "deepnote_cell_type": "code"
      },
      "outputs": [],
      "execution_count": null,
      "block_group": "52e27eaf44fc401c8bda17995c7fce9d"
    },
    {
      "cell_type": "code",
      "source": "def GetStereometricQ (qdf,qth1,qth2):\n\n    cur.execute(f\"SELECT question FROM StereometricDef WHERE sterDefId = {qdf} \")\n    record1 =  cur.fetchone()\n    cur.execute(f\"SELECT question FROM StereometricThems WHERE sterThemsId = {qth1} \")\n    record2 =  cur.fetchone()\n    cur.execute(f\"SELECT question FROM StereometricThems WHERE sterThemsId = {qth2} \")\n    record3 =  cur.fetchone()\n    \n    record = [record1[0],record2[0],record3[0]]\n\n    return record\n\n\n    ",
      "metadata": {
        "source_hash": null,
        "execution_start": 1693774513045,
        "execution_millis": 8,
        "deepnote_to_be_reexecuted": false,
        "cell_id": "620042df8ce046a68b0945fce338cde2",
        "deepnote_cell_type": "code"
      },
      "outputs": [],
      "execution_count": null,
      "block_group": "7df2a363600440ff8ff82422b6661563"
    },
    {
      "cell_type": "code",
      "source": "def CreatePreambleTex(doc):\n    doc.preamble.append(Command('documentclass[a4paper, 14pt]{extbook}'))\n    doc.preamble.append(Command('pagestyle{plain}'))\n    doc.preamble.append(Command('usepackage[cp1251]{inputenc}'))\n    doc.preamble.append(Command('usepackage{amsthm}'))\n    doc.preamble.append(Command('usepackage{amsmath}'))\n    doc.preamble.append(Command('usepackage{amssymb}'))\n    doc.preamble.append(Command('usepackage{amsfonts}'))\n    doc.preamble.append(Command('usepackage{amscd}'))\n    doc.preamble.append(Command('usepackage{ccaption}'))\n    doc.preamble.append(Command('usepackage{mathrsfs}'))\n    doc.preamble.append(Command('usepackage[english,russian]{babel}'))\n    doc.preamble.append(Command('usepackage[pdftex]{graphicx}'))\n    doc.preamble.append(Command('usepackage[sf,bf,compact,topmarks,calcwidth,pagestyles]{titlesec}'))\n    doc.preamble.append(Command('usepackage{tabularx}'))\n    doc.preamble.append(Command('setcounter{page}{3}'))\n    doc.preamble.append(Command('usepackage{wrapfig}'))\n    doc.preamble.append(Command('usepackage{srcltx}'))\n    doc.preamble.append(Command('usepackage{geometry}'))\n    doc.preamble.append(Command('geometry{top=0.5cm}'))\n    doc.preamble.append(Command('geometry{bottom=0.5cm}'))\n    doc.preamble.append(Command('geometry{left=1.0cm}'))\n    doc.preamble.append(Command('geometry{right=1.0cm}'))\n    doc.preamble.append(Command('sloppy'))\n    doc.preamble.append(Command('makeatletter'))\n    doc.preamble.append(Command(r'renewcommand{\\@oddfoot}{\\hfil \\small \\arabic{page}\\hfil}'))\n    doc.preamble.append(Command(r'renewcommand{\\@evenfoot}{\\hfil \\small \\arabic{page}\\hfil}'))\n    doc.preamble.append(Command('makeatother'))\n    return doc\n\n    ",
      "metadata": {
        "source_hash": null,
        "execution_start": 1693774513058,
        "execution_millis": 45,
        "deepnote_to_be_reexecuted": false,
        "cell_id": "f93c331727c040d582b855bae4dd1604",
        "deepnote_cell_type": "code"
      },
      "outputs": [],
      "execution_count": null,
      "block_group": "9c7f2cc3b0e14d5c9a449d9258a0c391"
    },
    {
      "cell_type": "code",
      "source": "def CreateSterBTex(doc,n):\n\n    doc = CreatePreambleTex(doc)\n    for i in range(n):\n        qdef = random.randint(1,18)\n        qth1 = random.randint(1,26)\n        qth2 = random.randint(1,26)\n        stereo = GetStereometricQ (qdef,qth1,qth2)\n        doc.append(f'Билет № {i+1}')\n        doc.append(Command('begin{enumerate}'))\n        doc.append(Command('item[1)]', f'{stereo[0]}'))\n        doc.append(Command('item[2)]', f'{stereo[1]}'))\n        doc.append(Command('item[3)]', f'{stereo[2]}'))\n        doc.append(Command('end{enumerate}'))\n        doc.append(Command('newline'))\n    return doc",
      "metadata": {
        "source_hash": null,
        "execution_start": 1693774513099,
        "execution_millis": 54,
        "deepnote_to_be_reexecuted": false,
        "cell_id": "804e5c023d5449b2a2304d16ec9d8e7e",
        "deepnote_cell_type": "code"
      },
      "outputs": [],
      "execution_count": null,
      "block_group": "648915df899f4abc9711321c9c618e54"
    },
    {
      "cell_type": "code",
      "source": "def GetFuncAnalis (numQ) :\n    cur.execute(f\"SELECT question FROM Deferencial WHERE DeferId = {numQ} \")\n    record =  cur.fetchone()\n    return record[0]",
      "metadata": {
        "source_hash": null,
        "execution_start": 1693774513100,
        "execution_millis": 45,
        "deepnote_to_be_reexecuted": false,
        "cell_id": "6aca76ffc0fa4ca98779121398b0bb37",
        "deepnote_cell_type": "code"
      },
      "outputs": [],
      "execution_count": null,
      "block_group": "e135ba61280745ef89fe5305ab11e016"
    },
    {
      "cell_type": "code",
      "source": "def FuncAnalisTex(doc,n):\n    TXT = \"Исследовать функцию с помощью производной и построить ее график:\"\n    doc = CreatePreambleTex(doc)\n    for i in range(n):\n        qnum = random.randint(1,25)\n        var = GetFuncAnalis (qnum)\n        doc.append(Command(r'begin{center}'))\n        doc.append(f'Билет № {i+1}')\n        doc.append(Command('newline'))\n        doc.append(Command('textbf', TXT))\n        doc.append(Math(inline=False, data=NoEscape(var), escape=None))\n        doc.append(Command(r'end{center}'))\n        doc.append(Command('newline'))\n    return doc",
      "metadata": {
        "source_hash": null,
        "execution_start": 1693774513143,
        "execution_millis": 15,
        "deepnote_to_be_reexecuted": false,
        "cell_id": "29832299d98c4a7d8c947976b95ea009",
        "deepnote_cell_type": "code"
      },
      "outputs": [],
      "execution_count": null,
      "block_group": "8f7b494a6b124b11b6a6a6719c0ee305"
    },
    {
      "cell_type": "code",
      "source": "def CreateExamsQ(quest):                    ##Функция принимает массив значений\n    record = []\n    cur.execute(f\"SELECT question FROM EQ1 WHERE EQ1Id = {quest[0]} \")\n    record1 =  cur.fetchone()\n    cur.execute(f\"SELECT question FROM EQ2 WHERE EQ2Id = {quest[1]} \")\n    record2 =  cur.fetchone()\n    cur.execute(f\"SELECT question FROM EQ3 WHERE EQ3Id = {quest[2]} \")\n    record3 =  cur.fetchone()\n    cur.execute(f\"SELECT question FROM EQ4 WHERE EQ4Id = {quest[3]} \")\n    record4 =  cur.fetchone()\n    cur.execute(f\"SELECT question FROM EQ5 WHERE EQ5Id = {quest[4]} \")\n    record5 =  cur.fetchone()\n    cur.execute(f\"SELECT question FROM EQ6 WHERE EQ6Id = {quest[5]} \")\n    record6 =  cur.fetchone()\n    cur.execute(f\"SELECT question FROM EQ7 WHERE EQ7Id = {quest[6]} \")\n    record7 =  cur.fetchone()\n    cur.execute(f\"SELECT question FROM EQ8 WHERE EQ8Id = {quest[7]} \")\n    record8 =  cur.fetchone()\n    cur.execute(f\"SELECT question FROM EQ9 WHERE EQ9Id = {quest[8]} \")\n    record9 =  cur.fetchone()\n    cur.execute(f\"SELECT question FROM EQ10 WHERE EQ10Id = {quest[9]} \")\n    record10 =  cur.fetchone()\n    cur.execute(f\"SELECT question FROM EQ11 WHERE EQ11Id = {quest[10]} \")\n    record11 =  cur.fetchone()\n    cur.execute(f\"SELECT question FROM EQ12 WHERE EQ12Id = {quest[11]} \")\n    record12 =  cur.fetchone()\n    cur.execute(f\"SELECT question FROM EQ13 WHERE EQ13Id = {quest[12]} \")\n    record13 =  cur.fetchone()\n    cur.execute(f\"SELECT question FROM EQ14 WHERE EQ14Id = {quest[13]} \")\n    record14 =  cur.fetchone()\n    cur.execute(f\"SELECT question FROM EQ15 WHERE EQ15Id = {quest[14]} \")\n    record15 =  cur.fetchone()\n    cur.execute(f\"SELECT question FROM EQ16 WHERE EQ16Id = {quest[15]} \")\n    record16 =  cur.fetchone()\n    cur.execute(f\"SELECT question FROM EQ17 WHERE EQ17Id = {quest[16]} \")\n    record17 =  cur.fetchone()\n    cur.execute(f\"SELECT question FROM EQ18 WHERE EQ18Id = {quest[17]} \")\n    record18 =  cur.fetchone()\n    record = [record1[0],record2[0],record3[0],record4[0],record5[0],record6[0],record7[0],record8[0],record9[0],record10[0],record11[0],record12[0],record13[0],record14[0],record15[0],record16[0],record17[0],record18[0]]\n    return record\n",
      "metadata": {
        "source_hash": null,
        "execution_start": 1693774513148,
        "execution_millis": 12,
        "deepnote_to_be_reexecuted": false,
        "cell_id": "1904107cb29d491a953d564fc2d981c5",
        "deepnote_cell_type": "code"
      },
      "outputs": [],
      "execution_count": null,
      "block_group": "af40e1592e514d81b03f85efc9ea537a"
    },
    {
      "cell_type": "code",
      "source": "def ExamsTex(doc,n,t):\n    doc = CreatePreambleTex(doc)\n    for j in range (n):\n        qnum = []\n        for i in range (18):\n            qnum.append(random.randint(1,t))\n        quest =  CreateExamsQ(qnum)\n        doc.append(Command(r'begin{center}'))\n        doc.append(f'Экзаменационный Билет № {j+1}')\n        doc.append(Command('newline'))\n        doc.append(Command(r'end{center}'))\n        doc.append(Command('begin{enumerate}'))\n        doc.append(Command('item[1)]', 'Решить показательное уравнение'))\n        doc.append(Math(inline=False, data=NoEscape(quest[0]), escape=None))\n        doc.append(Command('newline'))\n        doc.append('Если уравнение имеет несколько корней в ответ напишите их сумму')\n        doc.append(Command('newline'))\n        doc.append(Command('item[2)]','Найдите значение выражения:'))\n        doc.append(Math(inline=False, data=NoEscape(quest[1]), escape=None)) \n        doc.append(Command('newline'))\n        doc.append(Command('item[3)]','Найти'))\n        doc.append(Math(inline=False, data=NoEscape(quest[2]), escape=None)) \n        doc.append(Command('newline'))\n        doc.append(Command('item[4)]','Вычислить предел'))\n        doc.append(Math(inline=False, data=NoEscape(quest[3]), escape=None)) \n        doc.append(Command('newline'))\n        doc.append(Command('item[5)]','Вычислить производную функции'))\n        doc.append(Math(inline=False, data=NoEscape(quest[4]), escape=None)) \n        doc.append(Command('newline'))\n        doc.append(Command('item[6)]','Вычислить неопределенный интеграл'))\n        doc.append(Math(inline=False, data=NoEscape(quest[5]), escape=None)) \n        doc.append(Command('newline'))\n        doc.append(Command('item[7)]','Вычислить определенный интеграл'))\n        doc.append(Math(inline=False, data=NoEscape(quest[6]), escape=None)) \n        doc.append(Command('newline'))\n        doc.append(Math(inline=False, data=NoEscape(quest[7]), escape=None)) \n        doc.append(Command('newline'))\n        doc.append(Command('item[9)]','Вычислить скалярное произведение векторов'))\n        doc.append(Math(inline=False, data=NoEscape(quest[8]), escape=None)) \n        doc.append(Command('newline'))\n        doc.append(Command('item[10)]',''))\n        doc.append(Math(inline=False, data=NoEscape(quest[9]), escape=None)) \n        doc.append(Command('newline'))\n        doc.append(Command('item[11)]',))\n        doc.append(Math(inline=False, data=NoEscape(quest[10]), escape=None)) \n        doc.append(Command('newline'))\n        doc.append(Command('item[12)]',))\n        doc.append(Math(inline=False, data=NoEscape(quest[11]), escape=None)) \n        doc.append(Command('newline'))\n        doc.append(Command('newline'))\n        doc.append(Command('item[13)]','Даны координаты точек'))\n        doc.append(Math(inline=False, data=NoEscape(quest[12]), escape=None)) \n        doc.append(Command('newline'))\n        doc.append('Вычислить')\n        doc.append(Command('begin{enumerate}'))\n        doc.append(Command('item[a)]','Найти координаты векторов \\overline{AB} и \\overline{CD}'))\n        doc.append(Command('item[b)]','Длины векторов \\overline{AB} и \\overline{CD}'))\n        doc.append(Command('item[c)]','Скалярное произведение векторов \\overline{AB} и \\overline{CD}'))\n        doc.append(Command('item[d)]','угол между векторами \\overline{AB} и \\overline{CD}'))\n        doc.append(Command(r'end{enumerate}'))\n        doc.append(Command('item[14)]',))\n        doc.append(Math(inline=False, data=NoEscape(quest[13]), escape=None)) \n        doc.append(Command('newline'))\n        doc.append(Command('item[15)]',))\n        doc.append(Math(inline=False, data=NoEscape(quest[14]), escape=None)) \n        doc.append(Command('newline'))\n        doc.append(Command('item[16)]',))\n        doc.append(f'{quest[15]}') \n        doc.append(Command('newline'))\n        doc.append(Command('item[17)]',))\n        doc.append(f'{quest[16]}') \n        doc.append(Command('newline'))\n        doc.append(Command('item[18)]',))\n        doc.append(f'{quest[17]}') \n        doc.append(Command('newline'))\n        doc.append(Command('item[19)]','Решить тригонометрическое уравнение'))\n        doc.append(Math(inline=False, data=NoEscape(r'2 \\sin \\left(x+\\frac{\\pi}{3} \\right)+\\cos 2x=\\sqrt{3}\\cos x +1.'), escape=None)) \n        doc.append(Command('newline'))\n        doc.append(Command('item[20)]','Решить логарифмическое неравенство'))\n        doc.append(Math(inline=False, data=NoEscape(r'2 \\sin \\left(x+\\frac{\\pi}{3} \\right)+\\cos 2x=\\sqrt{3}\\cos x +1.'), escape=None)) \n        doc.append(Command('newline'))\n        doc.append(Command(r'end{center}'))\n        doc.append(Command('item[21)]','На палке отмечены поперечные линии красного, жёлтого и зелёного цвета. Если распилить палку по красным линиям, получится 15 кусков, если по жёлтым — 5 кусков, а если по зелёным — 7 кусков. Сколько кусков получится, если распилить палку по линиям всех трёх цветов?')) \n        doc.append(Command('newline'))\n        doc.append(Command(r'end{enumerate}'))\n        doc.append(Command('newpage'))\n    \n    \n    return doc\n\n             \n             \n    ",
      "metadata": {
        "source_hash": null,
        "execution_start": 1693774513175,
        "execution_millis": 8,
        "deepnote_to_be_reexecuted": false,
        "cell_id": "17fcd185af0540548b5db66100d3890f",
        "deepnote_cell_type": "code"
      },
      "outputs": [],
      "execution_count": null,
      "block_group": "6631bc298f9f496fbcc953990bf8e206"
    },
    {
      "cell_type": "code",
      "source": "# Создание документа\ndocum = Document('Exams')\ndc = Document('Bilets')\nn = 20\ndocum = FuncAnalisTex(docum,n)\ndc = CreateSterBTex(dc,n)\ndoc = Document('EEEE')\ndoc = ExamsTex(doc,20,5)\n\n\n\n\n\n\n\n\n\n\ndocum.generate_tex('FuncAnalis')\ndc.generate_tex('Stereometry')\ndoc.generate_tex('ExamsItog')\n\ncur.close()\nif (conn):\n    conn.close()\n\n\n",
      "metadata": {
        "source_hash": null,
        "execution_start": 1693774513226,
        "execution_millis": 563,
        "deepnote_to_be_reexecuted": false,
        "cell_id": "cdcc460fc187441ba27a9e1f845dae96",
        "deepnote_cell_type": "code"
      },
      "outputs": [
        {
          "output_type": "error",
          "ename": "TypeError",
          "evalue": "'NoneType' object is not subscriptable",
          "traceback": [
            "\u001b[0;31m---------------------------------------------------------------------------\u001b[0m",
            "\u001b[0;31mTypeError\u001b[0m                                 Traceback (most recent call last)",
            "Cell \u001b[0;32mIn [10], line 8\u001b[0m\n\u001b[1;32m      6\u001b[0m dc \u001b[38;5;241m=\u001b[39m CreateSterBTex(dc,n)\n\u001b[1;32m      7\u001b[0m doc \u001b[38;5;241m=\u001b[39m Document(\u001b[38;5;124m'\u001b[39m\u001b[38;5;124mEEEE\u001b[39m\u001b[38;5;124m'\u001b[39m)\n\u001b[0;32m----> 8\u001b[0m doc \u001b[38;5;241m=\u001b[39m \u001b[43mExamsTex\u001b[49m\u001b[43m(\u001b[49m\u001b[43mdoc\u001b[49m\u001b[43m,\u001b[49m\u001b[38;5;241;43m20\u001b[39;49m\u001b[43m,\u001b[49m\u001b[38;5;241;43m5\u001b[39;49m\u001b[43m)\u001b[49m\n\u001b[1;32m     19\u001b[0m docum\u001b[38;5;241m.\u001b[39mgenerate_tex(\u001b[38;5;124m'\u001b[39m\u001b[38;5;124mFuncAnalis\u001b[39m\u001b[38;5;124m'\u001b[39m)\n\u001b[1;32m     20\u001b[0m dc\u001b[38;5;241m.\u001b[39mgenerate_tex(\u001b[38;5;124m'\u001b[39m\u001b[38;5;124mStereometry\u001b[39m\u001b[38;5;124m'\u001b[39m)\n",
            "Cell \u001b[0;32mIn [9], line 6\u001b[0m, in \u001b[0;36mExamsTex\u001b[0;34m(doc, n, t)\u001b[0m\n\u001b[1;32m      4\u001b[0m \u001b[38;5;28;01mfor\u001b[39;00m i \u001b[38;5;129;01min\u001b[39;00m \u001b[38;5;28mrange\u001b[39m (\u001b[38;5;241m18\u001b[39m):\n\u001b[1;32m      5\u001b[0m     qnum\u001b[38;5;241m.\u001b[39mappend(random\u001b[38;5;241m.\u001b[39mrandint(\u001b[38;5;241m1\u001b[39m,t))\n\u001b[0;32m----> 6\u001b[0m quest \u001b[38;5;241m=\u001b[39m  \u001b[43mCreateExamsQ\u001b[49m\u001b[43m(\u001b[49m\u001b[43mqnum\u001b[49m\u001b[43m)\u001b[49m\n\u001b[1;32m      7\u001b[0m i \u001b[38;5;241m=\u001b[39m \u001b[38;5;241m1\u001b[39m\n\u001b[1;32m      8\u001b[0m doc\u001b[38;5;241m.\u001b[39mappend(Command(\u001b[38;5;124mr\u001b[39m\u001b[38;5;124m'\u001b[39m\u001b[38;5;124mbegin\u001b[39m\u001b[38;5;132;01m{center}\u001b[39;00m\u001b[38;5;124m'\u001b[39m))\n",
            "Cell \u001b[0;32mIn [8], line 39\u001b[0m, in \u001b[0;36mCreateExamsQ\u001b[0;34m(quest)\u001b[0m\n\u001b[1;32m     37\u001b[0m cur\u001b[38;5;241m.\u001b[39mexecute(\u001b[38;5;124mf\u001b[39m\u001b[38;5;124m\"\u001b[39m\u001b[38;5;124mSELECT question FROM EQ18 WHERE EQ18Id = \u001b[39m\u001b[38;5;132;01m{\u001b[39;00mquest[\u001b[38;5;241m17\u001b[39m]\u001b[38;5;132;01m}\u001b[39;00m\u001b[38;5;124m \u001b[39m\u001b[38;5;124m\"\u001b[39m)\n\u001b[1;32m     38\u001b[0m record18 \u001b[38;5;241m=\u001b[39m  cur\u001b[38;5;241m.\u001b[39mfetchone()\n\u001b[0;32m---> 39\u001b[0m record \u001b[38;5;241m=\u001b[39m [record1[\u001b[38;5;241m0\u001b[39m],record2[\u001b[38;5;241m0\u001b[39m],record3[\u001b[38;5;241m0\u001b[39m],record4[\u001b[38;5;241m0\u001b[39m],record5[\u001b[38;5;241m0\u001b[39m],record6[\u001b[38;5;241m0\u001b[39m],record7[\u001b[38;5;241m0\u001b[39m],record8[\u001b[38;5;241m0\u001b[39m],record9[\u001b[38;5;241m0\u001b[39m],record10[\u001b[38;5;241m0\u001b[39m],record11[\u001b[38;5;241m0\u001b[39m],record12[\u001b[38;5;241m0\u001b[39m],\u001b[43mrecord13\u001b[49m\u001b[43m[\u001b[49m\u001b[38;5;241;43m0\u001b[39;49m\u001b[43m]\u001b[49m,record14[\u001b[38;5;241m0\u001b[39m],record15[\u001b[38;5;241m0\u001b[39m],record16[\u001b[38;5;241m0\u001b[39m],record17[\u001b[38;5;241m0\u001b[39m],record18[\u001b[38;5;241m0\u001b[39m]]\n\u001b[1;32m     40\u001b[0m \u001b[38;5;28;01mreturn\u001b[39;00m record\n",
            "\u001b[0;31mTypeError\u001b[0m: 'NoneType' object is not subscriptable"
          ]
        }
      ],
      "execution_count": null,
      "block_group": "80635caf14ec4606893318d937dbd854"
    },
    {
      "cell_type": "code",
      "source": "",
      "metadata": {
        "source_hash": null,
        "execution_start": 1693774513790,
        "execution_millis": 8,
        "deepnote_to_be_reexecuted": false,
        "cell_id": "496cae8c587d4bc8aa49a186387c43ff",
        "deepnote_cell_type": "code"
      },
      "outputs": [],
      "execution_count": null,
      "block_group": "c50b6d136584429bb2af89f3478b3918"
    },
    {
      "cell_type": "markdown",
      "source": "\nЧто делать дальше?\n1.~Составить универсальную преамболу, тоесть функцию, которая генерирует в документе нуждую для всех вопросов~\n2. Написать функции которые добавляют в документ билеты по 20 штук изымая данные из бд\n3. ~Приколоться и творить херню~\n",
      "metadata": {
        "cell_id": "afcccc2446114bd1a3750469b62a2ebb",
        "deepnote_cell_type": "markdown"
      },
      "block_group": "03ffd4b194f94737a7f44e77a1d10352"
    },
    {
      "cell_type": "markdown",
      "source": "",
      "metadata": {
        "cell_id": "987cefc83400469f81a397f95481c876",
        "deepnote_cell_type": "markdown"
      },
      "block_group": "538c486a2d924279ada897c81e48f722"
    },
    {
      "cell_type": "markdown",
      "source": "<a style='text-decoration:none;line-height:16px;display:flex;color:#5B5B62;padding:10px;justify-content:end;' href='https://deepnote.com?utm_source=created-in-deepnote-cell&projectId=1d802695-4bc8-4e2f-a465-d0c860ff7968' target=\"_blank\">\n<img alt='Created in deepnote.com' style='display:inline;max-height:16px;margin:0px;margin-right:7.5px;' src='data:image/svg+xml;base64,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' > </img>\nCreated in <span style='font-weight:600;margin-left:4px;'>Deepnote</span></a>",
      "metadata": {
        "created_in_deepnote_cell": true,
        "deepnote_cell_type": "markdown"
      }
    }
  ],
  "nbformat": 4,
  "nbformat_minor": 0,
  "metadata": {
    "deepnote": {},
    "orig_nbformat": 2,
    "deepnote_notebook_id": "8d754421d59c4958b18c65da1c5b415a",
    "deepnote_persisted_session": {
      "createdAt": "2023-09-03T21:16:24.737Z"
    },
    "deepnote_execution_queue": []
  }
}