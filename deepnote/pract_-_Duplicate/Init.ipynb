{
  "cells": [
    {
      "cell_type": "markdown",
      "source": "## Initialization Notebook\nThis is your initialization notebook.\n\n**What's this for?**\n\nYou can put custom code you want us to run every time we setup your environment in here. \n\n**Awesome! Anything I should not put in here?**\n\nPlease don't install `jupyter` or `jedi` packages, they would break your Deepnote environment. Also, no need to put `!pip install`s here, we already save those automatically!\n\n**I want to learn more!**\n\nGreat! Just [head over to our docs](https://deepnote.com/docs/custom-initialization).",
      "metadata": {
        "cell_id": "663224d535fb4e919fde0b428119796e",
        "deepnote_cell_type": "markdown"
      },
      "block_group": "e05ef20085754a63be916aad1aa17567"
    },
    {
      "cell_type": "code",
      "source": "%%bash\n# If your project has a 'requirements.txt' file, we'll install it here apart from blacklisted packages that interfere with Deepnote (see above).\nif test -f requirements.txt\n  then\n    sed -i '/jedi/d;/jupyter/d;' ./requirements.txt\n    pip install -r ./requirements.txt\n  else echo \"There's no requirements.txt, so nothing to install. This is the case with most projects.\"\nfi",
      "metadata": {
        "source_hash": null,
        "execution_start": 1693836201463,
        "execution_millis": 8295,
        "deepnote_to_be_reexecuted": false,
        "cell_id": "1b1938959891499ba63bc6b6deafb736",
        "deepnote_cell_type": "code"
      },
      "outputs": [
        {
          "name": "stdout",
          "text": "Collecting pylatex\n  Downloading PyLaTeX-1.4.1.tar.gz (84 kB)\n     ━━━━━━━━━━━━━━━━━━━━━━━━━━━━━━━━━━━━━━━━ 85.0/85.0 KB 19.9 MB/s eta 0:00:00\n  Preparing metadata (setup.py): started\n  Preparing metadata (setup.py): finished with status 'done'\nCollecting aiogram==2.25.1\n  Downloading aiogram-2.25.1-py3-none-any.whl (203 kB)\n     ━━━━━━━━━━━━━━━━━━━━━━━━━━━━━━━━━━━━━━ 203.4/203.4 KB 42.2 MB/s eta 0:00:00\nCollecting Babel<2.10.0,>=2.9.1\n  Downloading Babel-2.9.1-py2.py3-none-any.whl (8.8 MB)\n     ━━━━━━━━━━━━━━━━━━━━━━━━━━━━━━━━━━━━━━━━ 8.8/8.8 MB 67.0 MB/s eta 0:00:00\nCollecting aiohttp<3.9.0,>=3.8.0\n  Downloading aiohttp-3.8.5-cp39-cp39-manylinux_2_17_x86_64.manylinux2014_x86_64.whl (1.1 MB)\n     ━━━━━━━━━━━━━━━━━━━━━━━━━━━━━━━━━━━━━━━━ 1.1/1.1 MB 78.8 MB/s eta 0:00:00\nCollecting magic-filter>=1.0.9\n  Downloading magic_filter-1.0.11-py3-none-any.whl (11 kB)\nRequirement already satisfied: certifi>=2021.10.8 in /shared-libs/python3.9/py/lib/python3.9/site-packages (from aiogram==2.25.1->-r ./requirements.txt (line 2)) (2022.9.24)\nCollecting ordered-set\n  Downloading ordered_set-4.1.0-py3-none-any.whl (7.6 kB)\nCollecting yarl<2.0,>=1.0\n  Downloading yarl-1.9.2-cp39-cp39-manylinux_2_17_x86_64.manylinux2014_x86_64.whl (269 kB)\n     ━━━━━━━━━━━━━━━━━━━━━━━━━━━━━━━━━━━━━━ 269.4/269.4 KB 43.7 MB/s eta 0:00:00\nCollecting frozenlist>=1.1.1\n  Downloading frozenlist-1.4.0-cp39-cp39-manylinux_2_5_x86_64.manylinux1_x86_64.manylinux_2_17_x86_64.manylinux2014_x86_64.whl (228 kB)\n     ━━━━━━━━━━━━━━━━━━━━━━━━━━━━━━━━━━━━━━ 228.0/228.0 KB 44.5 MB/s eta 0:00:00\nCollecting aiosignal>=1.1.2\n  Downloading aiosignal-1.3.1-py3-none-any.whl (7.6 kB)\nRequirement already satisfied: charset-normalizer<4.0,>=2.0 in /shared-libs/python3.9/py-core/lib/python3.9/site-packages (from aiohttp<3.9.0,>=3.8.0->aiogram==2.25.1->-r ./requirements.txt (line 2)) (2.1.1)\nCollecting async-timeout<5.0,>=4.0.0a3\n  Downloading async_timeout-4.0.3-py3-none-any.whl (5.7 kB)\nRequirement already satisfied: attrs>=17.3.0 in /shared-libs/python3.9/py-core/lib/python3.9/site-packages (from aiohttp<3.9.0,>=3.8.0->aiogram==2.25.1->-r ./requirements.txt (line 2)) (22.1.0)\nCollecting multidict<7.0,>=4.5\n  Downloading multidict-6.0.4-cp39-cp39-manylinux_2_17_x86_64.manylinux2014_x86_64.whl (114 kB)\n     ━━━━━━━━━━━━━━━━━━━━━━━━━━━━━━━━━━━━━━ 114.2/114.2 KB 21.9 MB/s eta 0:00:00\nRequirement already satisfied: pytz>=2015.7 in /shared-libs/python3.9/py/lib/python3.9/site-packages (from Babel<2.10.0,>=2.9.1->aiogram==2.25.1->-r ./requirements.txt (line 2)) (2022.5)\nRequirement already satisfied: idna>=2.0 in /shared-libs/python3.9/py-core/lib/python3.9/site-packages (from yarl<2.0,>=1.0->aiohttp<3.9.0,>=3.8.0->aiogram==2.25.1->-r ./requirements.txt (line 2)) (3.4)\nBuilding wheels for collected packages: pylatex\n  Building wheel for pylatex (setup.py): started\n  Building wheel for pylatex (setup.py): finished with status 'done'\n  Created wheel for pylatex: filename=PyLaTeX-1.4.1-py3-none-any.whl size=42814 sha256=88a521c36cff44c7d9fde5483e61a0b12415b2c9399f798d7452e47c7e77d95b\n  Stored in directory: /root/.cache/pip/wheels/b6/e9/7e/8aa34d7614c414fb7be6c8880b384621c816e567a0f084577f\nSuccessfully built pylatex\nInstalling collected packages: ordered-set, multidict, magic-filter, frozenlist, Babel, async-timeout, yarl, pylatex, aiosignal, aiohttp, aiogram\n  Attempting uninstall: Babel\n    Found existing installation: Babel 2.10.3\n    Not uninstalling babel at /shared-libs/python3.9/py/lib/python3.9/site-packages, outside environment /root/venv\n    Can't uninstall 'Babel'. No files were found to uninstall.\nSuccessfully installed Babel-2.9.1 aiogram-2.25.1 aiohttp-3.8.5 aiosignal-1.3.1 async-timeout-4.0.3 frozenlist-1.4.0 magic-filter-1.0.11 multidict-6.0.4 ordered-set-4.1.0 pylatex-1.4.1 yarl-1.9.2\nWARNING: You are using pip version 22.0.4; however, version 23.2.1 is available.\nYou should consider upgrading via the '/root/venv/bin/python -m pip install --upgrade pip' command.\n",
          "output_type": "stream"
        }
      ],
      "execution_count": null,
      "block_group": "92e3b41277ce465d945900f27af9b0ae"
    },
    {
      "cell_type": "markdown",
      "source": "<a style='text-decoration:none;line-height:16px;display:flex;color:#5B5B62;padding:10px;justify-content:end;' href='https://deepnote.com?utm_source=created-in-deepnote-cell&projectId=1d802695-4bc8-4e2f-a465-d0c860ff7968' target=\"_blank\">\n<img alt='Created in deepnote.com' style='display:inline;max-height:16px;margin:0px;margin-right:7.5px;' src='data:image/svg+xml;base64,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' > </img>\nCreated in <span style='font-weight:600;margin-left:4px;'>Deepnote</span></a>",
      "metadata": {
        "created_in_deepnote_cell": true,
        "deepnote_cell_type": "markdown"
      }
    }
  ],
  "nbformat": 4,
  "nbformat_minor": 0,
  "metadata": {
    "deepnote": {},
    "orig_nbformat": 2,
    "deepnote_notebook_id": "93df345e334a43b7871d2b177d265dd8",
    "deepnote_execution_queue": []
  }
}