{
  "cells": [
    {
      "cell_type": "code",
      "source": "import sqlite3",
      "metadata": {
        "source_hash": null,
        "execution_start": 1693774056344,
        "execution_millis": 13,
        "deepnote_to_be_reexecuted": false,
        "cell_id": "41bc9eec7fde42e8be3f4f8353d70dd8",
        "deepnote_cell_type": "code"
      },
      "outputs": [],
      "execution_count": null,
      "block_group": "7ef483c036d04473b3675b46ffec23f4"
    },
    {
      "cell_type": "code",
      "source": "# Создание БД\ntry:\n    conn = sqlite3.connect('questions.db')\n    cur = conn.cursor()\n    print(\"База данных создана и успешно подключена к SQLite\")\n\n    cur.execute(\"\"\"CREATE TABLE IF NOT EXISTS StereometricDef(\n    sterDefId INT PRIMARY KEY,\n    question TEXT);\n    \"\"\")\n    conn.commit()\n\n    cur.execute(r\"INSERT INTO StereometricDef(sterDefId, question) VALUES(?, ?)\",\\\n        (1, r\"Параллельные прямые в пространстве. Определение.\"))\n    cur.execute(r\"INSERT INTO StereometricDef(sterDefId, question) VALUES(?, ?)\",\\\n        (2, r\"Параллельные плоскости. Определение.\"))\n    cur.execute(r\"INSERT INTO StereometricDef(sterDefId, question) VALUES(?, ?)\",\\\n        (3, r\"Определение двугранного угла.\"))\n    cur.execute(r\"INSERT INTO StereometricDef(sterDefId, question) VALUES(?, ?)\",\\\n        (4, r\"Пирамида. Определение.\"))\n    cur.execute(r\"INSERT INTO StereometricDef(sterDefId, question) VALUES(?, ?)\",\\\n        (5, r\"Определение правильной пирамиды.\"))\n    cur.execute(r\"INSERT INTO StereometricDef(sterDefId, question) VALUES(?, ?)\",\\\n        (6, r\"Замечание о расстоянии между двумя параллельными плоскостями.\"))\n    cur.execute(r\"INSERT INTO StereometricDef(sterDefId, question) VALUES(?, ?)\",\\\n        (7, r\"Замечание о расстоянии прямой и параллельной ей плоскостью.\"))\n    cur.execute(r\"INSERT INTO StereometricDef(sterDefId, question) VALUES(?, ?)\",\\\n        (8, r\"Замечание о расстоянии между скрещивающимися прямыми\"))\n    cur.execute(r\"INSERT INTO StereometricDef(sterDefId, question) VALUES(?, ?)\",\\\n        (9, r\"Определение двугранного угла.\"))\n    cur.execute(r\"INSERT INTO StereometricDef(sterDefId, question) VALUES(?, ?)\",\\\n        (10, r\" Угол между прямыми.\"))\n    cur.execute(r\"INSERT INTO StereometricDef(sterDefId, question) VALUES(?, ?)\",\\\n        (11, r\" Три случая взаимного расположения прямых в пространстве.\"))\n    cur.execute(r\"INSERT INTO StereometricDef(sterDefId, question) VALUES(?, ?)\",\\\n        (12, r\"Угол между двумя прямыми.\"))\n    cur.execute(r\"INSERT INTO StereometricDef(sterDefId, question) VALUES(?, ?)\",\\\n        (13, r\" Определение градусной меры двугранного угла.\"))\n    cur.execute(r\"INSERT INTO StereometricDef(sterDefId, question) VALUES(?, ?)\",\\\n        (14, r\" Определение пирамиды.\"))\n    cur.execute(r\"INSERT INTO StereometricDef(sterDefId, question) VALUES(?, ?)\",\\\n        (15, r\"  Угол между прямыми.\"))\n    cur.execute(r\"INSERT INTO StereometricDef(sterDefId, question) VALUES(?, ?)\",\\\n        (16, r\" Определение призмы.\"))\n    cur.execute(r\"INSERT INTO StereometricDef(sterDefId, question) VALUES(?, ?)\",\\\n        (17, r\" Определение прямоугольного параллелепипеда.\"))\n    cur.execute(r\"INSERT INTO StereometricDef(sterDefId, question) VALUES(?, ?)\",\\\n        (18, r\" Определение угла между прямой и плоскостью.\"))\n        \n\n    conn.commit()\n    \n    cur.execute(\"\"\"CREATE TABLE IF NOT EXISTS StereometricThems(\n    sterThemsId INT PRIMARY KEY,\n    question TEXT);\n    \"\"\")\n    conn.commit()\n\n    cur.execute(r\"INSERT INTO StereometricThems(sterThemsId, question) VALUES(?, ?)\",\\\n        (1, r\"Теорема о параллельных прямых перпендикулярных плоскости.\"))\n    cur.execute(r\"INSERT INTO StereometricThems(sterThemsId, question) VALUES(?, ?)\",\\\n        (2, r\"Обратная теорема o трех перпендикулярах.\"))\n    cur.execute(r\"INSERT INTO StereometricThems(sterThemsId, question) VALUES(?, ?)\",\\\n        (3, r\"Теорема о трех перпендикулярах.\"))\n    cur.execute(r\"INSERT INTO StereometricThems(sterThemsId, question) VALUES(?, ?)\",\\\n        (4, r\"Теорема о квадрате диагонали прямоугольного параллелепипеда. Следствие.\"))\n    cur.execute(r\"INSERT INTO StereometricThems(sterThemsId, question) VALUES(?, ?)\",\\\n        (5, r\"Теорема: признак перпендикулярности двух плоскостей.\"))\n    cur.execute(r\"INSERT INTO StereometricThems(sterThemsId, question) VALUES(?, ?)\",\\\n        (6, r\"Равенство линейных углов двугранного угла.\"))\n    cur.execute(r\"INSERT INTO StereometricThems(sterThemsId, question) VALUES(?, ?)\",\\\n        (7, r\"Теорема о плоскости проходящей через две пересекающиеся прямые.\"))\n    cur.execute(r\"INSERT INTO StereometricThems(sterThemsId, question) VALUES(?, ?)\",\\\n        (8, r\"Обратная теорема к теореме о параллельных прямых, перпендикулярных к плоскости.\"))\n    cur.execute(r\"INSERT INTO StereometricThems(sterThemsId, question) VALUES(?, ?)\",\\\n        (9, r\"2 утверждения о параллельности прямой и плоскости (стр. 12, 13).\"))\n    cur.execute(r\"INSERT INTO StereometricThems(sterThemsId, question) VALUES(?, ?)\",\\\n        (10, r\"Теорема о параллельных прямых.\"))\n    cur.execute(r\"INSERT INTO StereometricThems(sterThemsId, question) VALUES(?, ?)\",\\\n        (11, r\"Теорема об углах с сонаправленными сторонами.\"))\n    cur.execute(r\"INSERT INTO StereometricThems(sterThemsId, question) VALUES(?, ?)\",\\\n        (12, r\"Теорема: признак параллельности плоскостей.\"))\n    cur.execute(r\"INSERT INTO StereometricThems(sterThemsId, question) VALUES(?, ?)\",\\\n        (13, r\" Теорема: признак перпендикулярности прямой и плоскости.\"))\n    cur.execute(r\"INSERT INTO StereometricThems(sterThemsId, question) VALUES(?, ?)\",\\\n        (14, r\" Теорема о прямой перпендикулярной к плоскости.\"))\n    cur.execute(r\"INSERT INTO StereometricThems(sterThemsId, question) VALUES(?, ?)\",\\\n        (15, r\" Два свойства параллельных плоскостей.\"))\n    cur.execute(r\"INSERT INTO StereometricThems(sterThemsId, question) VALUES(?, ?)\",\\\n        (16, r\" Теорема о трех перпендикулярах.\"))\n    cur.execute(r\"INSERT INTO StereometricThems(sterThemsId, question) VALUES(?, ?)\",\\\n        (17, r\" Теорема: признак перпендикулярности двух плоскостей.\"))\n    cur.execute(r\"INSERT INTO StereometricThems(sterThemsId, question) VALUES(?, ?)\",\\\n        (18, r\" Обратная теорема о трех перпендикулярах.\"))\n    cur.execute(r\"INSERT INTO StereometricThems(sterThemsId, question) VALUES(?, ?)\",\\\n        (19, r\" Теорема о квадрате диагонали прямоугольного параллелепипеда.\"))\n    cur.execute(r\"INSERT INTO StereometricThems(sterThemsId, question) VALUES(?, ?)\",\\\n        (20, r\" Теорема о прямой перпендикулярной к плоскости. \"))\n    cur.execute(r\"INSERT INTO StereometricThems(sterThemsId, question) VALUES(?, ?)\",\\\n        (21, r\" Теорема: признак параллельности прямой и плоскости. \"))\n    cur.execute(r\"INSERT INTO StereometricThems(sterThemsId, question) VALUES(?, ?)\",\\\n        (22, r\" Два свойства параллелепипеда.\"))\n    cur.execute(r\"INSERT INTO StereometricThems(sterThemsId, question) VALUES(?, ?)\",\\\n        (23, r\" Теорема: признак параллельности плоскостей. \"))\n    cur.execute(r\"INSERT INTO StereometricThems(sterThemsId, question) VALUES(?, ?)\",\\\n        (24, r\" Лемма о пересечении плоскости параллельными прямыми. \"))\n    cur.execute(r\"INSERT INTO StereometricThems(sterThemsId, question) VALUES(?, ?)\",\\\n        (25, r\" Теорема о скрещивающихся прямых. \"))\n    cur.execute(r\"INSERT INTO StereometricThems(sterThemsId, question) VALUES(?, ?)\",\\\n        (26, r\" Теорема: признак параллельности прямой и плоскости.\"))\n\n\n    conn.commit()\n\n\n    cur.close()\n\nexcept sqlite3.Error as error:\n    print(\"Ошибка при подключении к sqlite\", error)\nfinally:\n    if (conn):\n        conn.close()\n        print(\"Соединение с SQLite закрыто\")",
      "metadata": {
        "source_hash": null,
        "execution_start": 1693774056345,
        "execution_millis": 89,
        "deepnote_to_be_reexecuted": false,
        "cell_id": "2363addfb8cd44688cf11574d53cdeb2",
        "deepnote_cell_type": "code"
      },
      "outputs": [
        {
          "name": "stdout",
          "text": "База данных создана и успешно подключена к SQLite\nСоединение с SQLite закрыто\n",
          "output_type": "stream"
        }
      ],
      "execution_count": null,
      "block_group": "c27910946c66413baf8a54b41bf2d870"
    },
    {
      "cell_type": "code",
      "source": "# Создание БД\ntry:\n    conn = sqlite3.connect('questions.db')\n    cur = conn.cursor()\n    print(\"База данных создана и успешно подключена к SQLite\")\n\n    cur.execute(\"\"\"CREATE TABLE IF NOT EXISTS TerVer(\n    TerVerId INT PRIMARY KEY,\n    question TEXT);\n    \"\"\")\n    conn.commit()\n\n    cur.execute(r\"INSERT INTO  TerVer(TerVerId, question) VALUES(?, ?)\",\\\n        (1, r\"Определение сочетаний, перестановок и размещений. Формулы для вычисления числа сочетаний, числа перестановок и числа размещений.\"))\n    cur.execute(r\"INSERT INTO TerVer(TerVerId, question) VALUES(?, ?)\",\\\n        (2, r\"Комбинаторные принципы (правило сложения и правило умножения).\"))\n    cur.execute(r\"INSERT INTO TerVer(TerVerId, question) VALUES(?, ?)\",\\\n        (3, r\"Определение стохастического эксперимента.\"))\n    cur.execute(r\"INSERT INTO TerVer(TerVerId, question) VALUES(?, ?)\",\\\n        (4, r\"Определение пространства элементарных исходов.\"))\n    cur.execute(r\"INSERT INTO TerVer(TerVerId, question) VALUES(?, ?)\",\\\n        (5, r\"Определения случайного события, невозможного события, достоверного события.\"))\n    cur.execute(r\"INSERT INTO TerVer(TerVerId, question) VALUES(?, ?)\",\\\n        (6, r\"Соотношения между событиями.\"))\n    cur.execute(r\"INSERT INTO TerVer(TerVerId, question) VALUES(?, ?)\",\\\n        (7, r\"Статистическое определение вероятности.\"))\n    cur.execute(r\"INSERT INTO TerVer(TerVerId, question) VALUES(?, ?)\",\\\n        (8, r\"Классическое определение вероятности.\"))\n    cur.execute(r\"INSERT INTO TerVer(TerVerId, question) VALUES(?, ?)\",\\\n        (9, r\"Свойства вероятности.\"))\n    cur.execute(r\"INSERT INTO TerVer(TerVerId, question) VALUES(?, ?)\",\\\n        (10, r\"Теорема сложения вероятностей несовместных событий.\"))\n    cur.execute(r\"INSERT INTO TerVer(TerVerId, question) VALUES(?, ?)\",\\\n        (11, r\"Условная вероятность.\"))\n    cur.execute(r\"INSERT INTO TerVer(TerVerId, question) VALUES(?, ?)\",\\\n        (12, r\"Теорема умножения.\"))\n    cur.execute(r\"INSERT INTO TerVer(TerVerId, question) VALUES(?, ?)\",\\\n        (13, r\"Независимость событий.\"))\n    cur.execute(r\"INSERT INTO TerVer(TerVerId, question) VALUES(?, ?)\",\\\n        (14, r\"Критерий независимости событий.\"))\n    cur.execute(r\"INSERT INTO TerVer(TerVerId, question) VALUES(?, ?)\",\\\n        (15, r\"Формула полной вероятности.\"))\n    cur.execute(r\"INSERT INTO TerVer(TerVerId, question) VALUES(?, ?)\",\\\n        (16, r\"Формулы Байеса.\"))\n    cur.execute(r\"INSERT INTO TerVer(TerVerId, question) VALUES(?, ?)\",\\\n        (17, r\"Формула Бернулли.\"))\n    cur.execute(r\"INSERT INTO TerVer(TerVerId, question) VALUES(?, ?)\",\\\n        (18, r\"Определение СВ.\"))\n    cur.execute(r\"INSERT INTO TerVer(TerVerId, question) VALUES(?, ?)\",\\\n        (19, r\"Определение ДСВ.\"))\n    cur.execute(r\"INSERT INTO TerVer(TerVerId, question) VALUES(?, ?)\",\\\n        (20, r\"Закон распределения ДСВ.\"))\n    cur.execute(r\"INSERT INTO TerVer(TerVerId, question) VALUES(?, ?)\",\\\n        (21, r\"Многоугольник распределения.\"))\n    cur.execute(r\"INSERT INTO TerVer(TerVerId, question) VALUES(?, ?)\",\\\n        (22, r\"Функция распределения вероятностей $F(x)$ СВ $X$. Определение и свойства.\"))\n    cur.execute(r\"INSERT INTO TerVer(TerVerId, question) VALUES(?, ?)\",\\\n        (23, r\"Определение и формула математического ожидания ДСВ.\"))\n    cur.execute(r\"INSERT INTO TerVer(TerVerId, question) VALUES(?, ?)\",\\\n        (24, r\"Определение и формулы дисперсии ДСВ.\"))\n    cur.execute(r\"INSERT INTO TerVer(TerVerId, question) VALUES(?, ?)\",\\\n        (25, r\"Среднее квадратическое отклонение.\"))\n    cur.execute(r\"INSERT INTO TerVer(TerVerId, question) VALUES(?, ?)\",\\\n        (26, r\"Биномиальный закон распределения, определение. Его математическое ожидание и дисперсия.\"))\n    cur.execute(r\"INSERT INTO TerVer(TerVerId, question) VALUES(?, ?)\",\\\n        (27, r\"Равномерное дискретное распределение. Определение. Его математическое ожидание.\"))\n    cur.execute(r\"INSERT INTO TerVer(TerVerId, question) VALUES(?, ?)\",\\\n        (28, r\"Определение НСВ.\"))\n    cur.execute(r\"INSERT INTO TerVer(TerVerId, question) VALUES(?, ?)\",\\\n        (29, r\"Определение функции плотности распределения вероятностей $f(x)$.\"))\n    cur.execute(r\"INSERT INTO TerVer(TerVerId, question) VALUES(?, ?)\",\\\n        (30, r\"Равномерное непрерывное распределение. Функции $f(x)$ и $F(x)$ равномерного непрерывного распределения. Его математическое ожидание и дисперсия.\"))\n    cur.execute(r\"INSERT INTO TerVer(TerVerId, question) VALUES(?, ?)\",\\\n        (31, r\"Геометрическое определение вероятностей.\")) \n    cur.execute(r\"INSERT INTO  TerVer(TerVerId, question) VALUES(?, ?)\",\\\n        (32, r\"Математическое ожидание НСВ. Определение и формула для вычисления.\"))\n    cur.execute(r\"INSERT INTO TerVer(TerVerId, question) VALUES(?, ?)\",\\\n        (33, r\"Дисперсия НСВ. Формулы для вычисления дисперсии НСВ.\"))\n    cur.execute(r\"INSERT INTO TerVer(TerVerId, question) VALUES(?, ?)\",\\\n        (34, r\"Задачи математической статистики.\"))       \n    cur.execute(r\"INSERT INTO TerVer(TerVerId, question) VALUES(?, ?)\",\\\n        (35, r\"Генеральная и выборочные совокупности.\"))\n    cur.execute(r\"INSERT INTO TerVer(TerVerId, question) VALUES(?, ?)\",\\\n        (36, r\"Вариационный ряд.\"))\n    cur.execute(r\"INSERT INTO TerVer(TerVerId, question) VALUES(?, ?)\",\\\n        (37, r\"Графическое изображение выборки: полигон и гистограмма частот.\"))\n    cur.execute(r\"INSERT INTO TerVer(TerVerId, question) VALUES(?, ?)\",\\\n        (38, r\"Выборочная функция распределения.\"))\n    cur.execute(r\"INSERT INTO TerVer(TerVerId, question) VALUES(?, ?)\",\\\n        (39, r\"Числовые характеристики выборки: Выборочное среднее и выборочная дисперсия. \"))\n    cur.execute(r\"INSERT INTO TerVer(TerVerId, question) VALUES(?, ?)\",\\\n        (40, r\" Зачтено! (удовлетворительно) \"))\n\n    conn.commit()\n\n\n\n    cur.close()\nexcept sqlite3.Error as error:\n    print(\"Ошибка при подключении к sqlite\", error)\nfinally:\n    if (conn):\n        conn.close()\n        print(\"Соединение с SQLite закрыто\")",
      "metadata": {
        "source_hash": null,
        "execution_start": 1693774056387,
        "execution_millis": 65,
        "deepnote_to_be_reexecuted": false,
        "cell_id": "93ca4bff20a44f138a3f088c8fdf6e27",
        "deepnote_cell_type": "code"
      },
      "outputs": [
        {
          "name": "stdout",
          "text": "База данных создана и успешно подключена к SQLite\nСоединение с SQLite закрыто\n",
          "output_type": "stream"
        }
      ],
      "execution_count": null,
      "block_group": "1ed7045e357647afaf4ec2d1f6899fdc"
    },
    {
      "cell_type": "code",
      "source": "# Создание БД\ntry:\n    conn = sqlite3.connect('questions.db')\n    cur = conn.cursor()\n    print(\"База данных создана и успешно подключена к SQLite\")\n\n    cur.execute(\"\"\"CREATE TABLE IF NOT EXISTS Deferencial(\n    DeferId INT PRIMARY KEY,\n    question TEXT);\n    \"\"\")\n    conn.commit()\n\n    cur.execute(r\"INSERT INTO  Deferencial(DeferId, question) VALUES(?, ?)\",\\\n        (1, r\" f(x)=\\frac{1}{3}x^3-\\frac{5}{2}x^2+6x\"))\n    cur.execute(r\"INSERT INTO Deferencial(DeferId, question) VALUES(?, ?)\",\\\n        (2, r\" f(x)=x^4-8x^2\"))\n    cur.execute(r\"INSERT INTO Deferencial(DeferId, question) VALUES(?, ?)\",\\\n        (3, r\" f(x)=\\frac{1}{4}x^4-\\frac{3}{2}x^2\"))\n    cur.execute(r\"INSERT INTO Deferencial(DeferId, question) VALUES(?, ?)\",\\\n        (4, r\" f(x)=x^3-3x^2+4\"))\n    cur.execute(r\"INSERT INTO Deferencial(DeferId, question) VALUES(?, ?)\",\\\n        (5, r\"f(x)=x^3-3x\"))\n    cur.execute(r\"INSERT INTO Deferencial(DeferId, question) VALUES(?, ?)\",\\\n        (6, r\" f(x)=\\frac{1}{2}x^4-3x^2+2\"))\n    cur.execute(r\"INSERT INTO Deferencial(DeferId, question) VALUES(?, ?)\",\\\n        (7, r\" f(x)=\\frac{4x^3-x^4}{5}\"))\n    cur.execute(r\"INSERT INTO Deferencial(DeferId, question) VALUES(?, ?)\",\\\n        (8, r\" f(x)=\\frac{1}{3}-4x+2,5x^2-\\frac{1}{3}x^3\"))\n    cur.execute(r\"INSERT INTO Deferencial(DeferId, question) VALUES(?, ?)\",\\\n        (9, r\" f(x)=2x^3-6x\"))\n    cur.execute(r\"INSERT INTO Deferencial(DeferId, question) VALUES(?, ?)\",\\\n        (10, r\" f(x)=-1-2x+3x^3\"))\n    cur.execute(r\"INSERT INTO Deferencial(DeferId, question) VALUES(?, ?)\",\\\n        (11, r\" f(x)=x(x^3-8) \"))\n    cur.execute(r\"INSERT INTO Deferencial(DeferId, question) VALUES(?, ?)\",\\\n        (12, r\" f(x)=x^2(x-3)\"))\n    cur.execute(r\"INSERT INTO Deferencial(DeferId, question) VALUES(?, ?)\",\\\n        (13, r\"f(x)=1-\\frac{5}{2}x^2-x^5\"))\n    cur.execute(r\"INSERT INTO Deferencial(DeferId, question) VALUES(?, ?)\",\\\n        (14, r\" f(x)=\\frac{1}{4}x^4-\\frac{1}{3}x^3-x^2 \"))\n    cur.execute(r\"INSERT INTO Deferencial(DeferId, question) VALUES(?, ?)\",\\\n        (15, r\" f(x)=3-3x+x^3\"))\n    cur.execute(r\"INSERT INTO Deferencial(DeferId, question) VALUES(?, ?)\",\\\n        (16, r\" f(x)=\\frac{1}{6}x^3-2x\"))\n    cur.execute(r\"INSERT INTO Deferencial(DeferId, question) VALUES(?, ?)\",\\\n        (17, r\" f(x)=\\frac{1}{9}x(x-4)^3 \"))\n    cur.execute(r\"INSERT INTO Deferencial(DeferId, question) VALUES(?, ?)\",\\\n        (18, r\" f(x)=-\\frac{1}{3}x^3+3,5x^2-10x-\\frac{1}{3}\"))\n    cur.execute(r\"INSERT INTO Deferencial(DeferId, question) VALUES(?, ?)\",\\\n        (19, r\" f(x)=x^3-4x\"))\n    cur.execute(r\"INSERT INTO Deferencial(DeferId, question) VALUES(?, ?)\",\\\n        (20, r\" f(x)=\\frac{1}{4}-\\frac{1}{3}x+x^2-0,5 x^4\"))\n    cur.execute(r\"INSERT INTO Deferencial(DeferId, question) VALUES(?, ?)\",\\\n        (21, r\" f(x)=x^4-4\"))\n    cur.execute(r\"INSERT INTO Deferencial(DeferId, question) VALUES(?, ?)\",\\\n        (22, r\"f(x)=1-\\frac{5}{2}x^2-x^5\"))\n    cur.execute(r\"INSERT INTO Deferencial(DeferId, question) VALUES(?, ?)\",\\\n        (23, r\" f(x)=\\frac{4x^3-x^4}{4}\"))\n    cur.execute(r\"INSERT INTO Deferencial(DeferId, question) VALUES(?, ?)\",\\\n        (24, r\" f(x)=3x^3-9x\"))\n    cur.execute(r\"INSERT INTO Deferencial(DeferId, question) VALUES(?, ?)\",\\\n        (25, r\" f(x)=\\frac{1}{3}x^3-9x\"))\n\n\n    conn.commit()\n\n\n\n    cur.close()\nexcept sqlite3.Error as error:\n    print(\"Ошибка при подключении к sqlite\", error)\nfinally:\n    if (conn):\n        conn.close()\n        print(\"Соединение с SQLite закрыто\")",
      "metadata": {
        "source_hash": null,
        "execution_start": 1693774056419,
        "execution_millis": 60,
        "deepnote_to_be_reexecuted": false,
        "cell_id": "19cf0f4bef584fc880aec8f18688d5cb",
        "deepnote_cell_type": "code"
      },
      "outputs": [
        {
          "name": "stdout",
          "text": "База данных создана и успешно подключена к SQLite\nСоединение с SQLite закрыто\n",
          "output_type": "stream"
        }
      ],
      "execution_count": null,
      "block_group": "244e83dbee624e6aa0a8e717c8ff25dc"
    },
    {
      "cell_type": "code",
      "source": "# Создание БД Итоговый тест 1\ntry:\n    conn = sqlite3.connect('questions.db')\n    cur = conn.cursor()\n    print(\"База данных создана и успешно подключена к SQLite\")\n\n    cur.execute(\"\"\"CREATE TABLE IF NOT EXISTS EQ1(\n    EQ1Id INT PRIMARY KEY,\n    question TEXT);\n    \"\"\")\n    conn.commit()\n\n    cur.execute(r\"INSERT INTO  EQ1(EQ1Id, question) VALUES(?, ?)\",\\\n        (1, r\" (0,5)^{10-3x}=32\"))\n    cur.execute(r\"INSERT INTO EQ1(EQ1Id, question) VALUES(?, ?)\",\\\n        (2, r\" (5)^{25+6x}=625\"))\n    cur.execute(r\"INSERT INTO EQ1(EQ1Id, question) VALUES(?, ?)\",\\\n        (3, r\"  2^{12-8x}=128\"))\n    cur.execute(r\"INSERT INTO EQ1(EQ1Id, question) VALUES(?, ?)\",\\\n        (4, r\" (16)^{x-9}=\\dfrac{1}{2}\"))\n    cur.execute(r\"INSERT INTO EQ1(EQ1Id, question) VALUES(?, ?)\",\\\n        (5, r\"(9)^{-5+x}=729\"))\n    cur.execute(r\"INSERT INTO EQ1(EQ1Id, question) VALUES(?, ?)\",\\\n        (6, r\" (7)^{18,5x+0,7}=\\dfrac{1}{343}\"))\n   \n \n    conn.commit()\n\n\n\n    cur.close()\nexcept sqlite3.Error as error:\n    print(\"Ошибка при подключении к sqlite\", error)\nfinally:\n    if (conn):\n        conn.close()\n        print(\"Соединение с SQLite закрыто\")",
      "metadata": {
        "source_hash": null,
        "execution_start": 1693774056436,
        "execution_millis": 51,
        "deepnote_to_be_reexecuted": false,
        "cell_id": "80d1983b885041658fbccac2e7979946",
        "deepnote_cell_type": "code"
      },
      "outputs": [
        {
          "name": "stdout",
          "text": "База данных создана и успешно подключена к SQLite\nСоединение с SQLite закрыто\n",
          "output_type": "stream"
        }
      ],
      "execution_count": null,
      "block_group": "5fa6dac58a20452e99ea873ca86450a9"
    },
    {
      "cell_type": "code",
      "source": "# Создание БД Итоговый тест 2\ntry:\n    conn = sqlite3.connect('questions.db')\n    cur = conn.cursor()\n    print(\"База данных создана и успешно подключена к SQLite\")\n\n    cur.execute(\"\"\"CREATE TABLE IF NOT EXISTS EQ2(\n    EQ2Id INT PRIMARY KEY,\n    question TEXT);\n    \"\"\")\n    conn.commit()\n\n    cur.execute(r\"INSERT INTO  EQ2(EQ2Id, question) VALUES(?, ?)\",\\\n        (1, r\" \\frac{5a^7b^{-3}}{(4a^3b)^3}\\cdot \\frac{64 b^3}{a^{-2}b^{-3}},  a,b\\neq 0\"))\n    cur.execute(r\"INSERT INTO EQ2(EQ2Id, question) VALUES(?, ?)\",\\\n        (2, r\" \\frac{(7x^3)^2}{7x^6}\"))\n    cur.execute(r\"INSERT INTO EQ2(EQ2Id, question) VALUES(?, ?)\",\\\n        (3, r\" \\dfrac{a^{3,33}}{a^{2,11}a^{2,22}},  a=\\dfrac{2}{7}\"))\n    cur.execute(r\"INSERT INTO EQ2(EQ2Id, question) VALUES(?, ?)\",\\\n        (4, r\" \\dfrac{11a^6b^3-(3a^2b)^3}{4a^6b^6},  b=2\"))\n    cur.execute(r\"INSERT INTO EQ2(EQ2Id, question) VALUES(?, ?)\",\\\n        (5, r\"\\dfrac{\\sqrt[3]{(7a^2)^6}}{a^4},  a\\neq 0\"))\n    cur.execute(r\"INSERT INTO EQ2(EQ2Id, question) VALUES(?, ?)\",\\\n        (6, r\" \\dfrac{(4a)^{2,5}}{a^2\\,\\,\\sqrt{a}},  a > 0\"))\n \n    conn.commit()\n\n\n\n    cur.close()\nexcept sqlite3.Error as error:\n    print(\"Ошибка при подключении к sqlite\", error)\nfinally:\n    if (conn):\n        conn.close()\n        print(\"Соединение с SQLite закрыто\")",
      "metadata": {
        "source_hash": null,
        "execution_start": 1693774056453,
        "execution_millis": 40,
        "deepnote_to_be_reexecuted": false,
        "cell_id": "b1795b073fd541879fc17ff7b40416bf",
        "deepnote_cell_type": "code"
      },
      "outputs": [
        {
          "name": "stdout",
          "text": "База данных создана и успешно подключена к SQLite\nСоединение с SQLite закрыто\n",
          "output_type": "stream"
        }
      ],
      "execution_count": null,
      "block_group": "92cf0864869647d59aed5eaab94b6939"
    },
    {
      "cell_type": "code",
      "source": "# Создание БД Итоговый тест 3\ntry:\n    conn = sqlite3.connect('questions.db')\n    cur = conn.cursor()\n    print(\"База данных создана и успешно подключена к SQLite\")\n\n    cur.execute(\"\"\"CREATE TABLE IF NOT EXISTS EQ3(\n    EQ3Id INT PRIMARY KEY,\n    question TEXT);\n    \"\"\")\n    conn.commit()\n\n    cur.execute(r\"INSERT INTO  EQ3(EQ3Id, question) VALUES(?, ?)\",\\\n        (1, r\" Найти $\\tg \\alpha$, если $\\sin \\alpha=-\\frac{3\\sqrt{34}}{34}$  и $\\alpha \\in \\left( \\pi, \\frac{3\\pi}{2} \\right)\"))\n    cur.execute(r\"INSERT INTO EQ3(EQ3Id, question) VALUES(?, ?)\",\\\n        (2, r\"  Найти $\\tg \\alpha $, если $\\cos \\alpha=\\frac{\\sqrt{10}}{10}$  и $\\alpha \\in \\left( \\pi, \\frac{3\\pi}{2} \\right) \"))\n    cur.execute(r\"INSERT INTO EQ3(EQ3Id, question) VALUES(?, ?)\",\\\n        (3, r\" Найти $\\tg \\alpha$, если $\\sin \\alpha=-\\dfrac{5}{\\sqrt{26}}$  и $\\alpha \\in \\left( \\pi, \\frac{3\\pi}{2} \\right)\"))\n    cur.execute(r\"INSERT INTO EQ3(EQ3Id, question) VALUES(?, ?)\",\\\n        (4, r\"  Найти $3\\cos \\alpha$, если $\\sin \\alpha=-\\frac{2\\sqrt{2}}{2}$  и $\\alpha \\in \\left(\\frac{3\\pi}{2},2\\pi\\right) \"))\n    cur.execute(r\"INSERT INTO EQ3(EQ3Id, question) VALUES(?, ?)\",\\\n        (5, r\" Найти $5\\sin \\alpha$, если $\\cos \\alpha=\\dfrac{2\\sqrt{6}}{5}$  и $\\alpha \\in \\left( \\frac{3\\pi}{2},2\\pi \\right) $\"))\n    cur.execute(r\"INSERT INTO EQ3(EQ3Id, question) VALUES(?, ?)\",\\\n        (6, r\" Найти $24\\cos 2\\alpha$, если $\\sin \\alpha=-0,2$\"))\n \n    conn.commit()\n\n\n\n    cur.close()\nexcept sqlite3.Error as error:\n    print(\"Ошибка при подключении к sqlite\", error)\nfinally:\n    if (conn):\n        conn.close()\n        print(\"Соединение с SQLite закрыто\")",
      "metadata": {
        "source_hash": null,
        "execution_start": 1693774056474,
        "execution_millis": 80,
        "deepnote_to_be_reexecuted": false,
        "cell_id": "1a99de198d72446795d160dc87bdcf12",
        "deepnote_cell_type": "code"
      },
      "outputs": [
        {
          "name": "stdout",
          "text": "База данных создана и успешно подключена к SQLite\nСоединение с SQLite закрыто\n",
          "output_type": "stream"
        }
      ],
      "execution_count": null,
      "block_group": "28f488eefb3e4e71b2dc1de324f279ee"
    },
    {
      "cell_type": "code",
      "source": "# Создание БД Итоговый тест 4\ntry:\n    conn = sqlite3.connect('questions.db')\n    cur = conn.cursor()\n    print(\"База данных создана и успешно подключена к SQLite\")\n\n    cur.execute(\"\"\"CREATE TABLE IF NOT EXISTS EQ4(\n    EQ4Id INT PRIMARY KEY,\n    question TEXT);\n    \"\"\")\n    conn.commit()\n\n    cur.execute(r\"INSERT INTO  EQ4(EQ4Id, question) VALUES(?, ?)\",\\\n        (1, r\" \\lim\\limits_{x\\to 2}\\frac{2x^2+2x-12}{2x^2-3x-2}\"))\n    cur.execute(r\"INSERT INTO EQ4(EQ4Id, question) VALUES(?, ?)\",\\\n        (2, r\" \\lim\\limits_{x\\to 3}\\frac{3x^2-11x+6}{2x^2-5x-3} \"))\n    cur.execute(r\"INSERT INTO EQ4(EQ4Id, question) VALUES(?, ?)\",\\\n        (3, r\" \\lim\\limits_{x\\to -1}\\frac{5x^2+4x-1}{3x^2+x-2}\"))\n    cur.execute(r\"INSERT INTO EQ4(EQ4Id, question) VALUES(?, ?)\",\\\n        (4, r\"  \\lim\\limits_{x\\to 2}\\frac{x^2-5x+6}{x^2-12x+20}\"))\n    cur.execute(r\"INSERT INTO EQ4(EQ4Id, question) VALUES(?, ?)\",\\\n        (5, r\" \\lim\\limits_{x\\to - 2}\\frac{4x^2+7x-2}{3x^2+8x+4}\"))\n    cur.execute(r\"INSERT INTO EQ4(EQ4Id, question) VALUES(?, ?)\",\\\n        (6, r\" \\lim\\limits_{x\\to -1}\\frac{x^2-4x-5}{x^2-2x-3}\"))\n \n    conn.commit()\n\n\n\n    cur.close()\nexcept sqlite3.Error as error:\n    print(\"Ошибка при подключении к sqlite\", error)\nfinally:\n    if (conn):\n        conn.close()\n        print(\"Соединение с SQLite закрыто\")",
      "metadata": {
        "source_hash": null,
        "execution_start": 1693774056495,
        "execution_millis": 25,
        "deepnote_to_be_reexecuted": false,
        "cell_id": "1007a858a0d647838306cec98935dd5b",
        "deepnote_cell_type": "code"
      },
      "outputs": [
        {
          "name": "stdout",
          "text": "База данных создана и успешно подключена к SQLite\nСоединение с SQLite закрыто\n",
          "output_type": "stream"
        }
      ],
      "execution_count": null,
      "block_group": "97fb40636f85441e99fe4405783d3a2e"
    },
    {
      "cell_type": "code",
      "source": "# Создание БД Итоговый тест 5\ntry:\n    conn = sqlite3.connect('questions.db')\n    cur = conn.cursor()\n    print(\"База данных создана и успешно подключена к SQLite\")\n\n    cur.execute(\"\"\"CREATE TABLE IF NOT EXISTS EQ5(\n    EQ5Id INT PRIMARY KEY,\n    question TEXT);\n    \"\"\")\n    conn.commit()\n\n    cur.execute(r\"INSERT INTO  EQ5(EQ5Id, question) VALUES(?, ?)\",\\\n        (1, r\"  y=\\dfrac{e^{\\sin x+5}}{\\cos x} в точке x_0=\\pi\"))\n    cur.execute(r\"INSERT INTO EQ5(EQ5Id, question) VALUES(?, ?)\",\\\n        (2, r\" y=\\dfrac{e^{\\cos x+5}}{\\sin x} в точке x_0=-\\dfrac{\\pi}{2}\"))\n    cur.execute(r\"INSERT INTO EQ5(EQ5Id, question) VALUES(?, ?)\",\\\n        (3, r\" y=\\dfrac{e^{\\tg x}}{\\cos x} в точке x_0=\\pi\"))\n    cur.execute(r\"INSERT INTO EQ5(EQ5Id, question) VALUES(?, ?)\",\\\n        (4, r\" y=\\dfrac{3}{5x+2} в точке x_0=-1\"))\n    cur.execute(r\"INSERT INTO EQ5(EQ5Id, question) VALUES(?, ?)\",\\\n        (5, r\" y=\\dfrac{\\arccos x}{5^x} в точке x_0=0\"))\n    cur.execute(r\"INSERT INTO EQ5(EQ5Id, question) VALUES(?, ?)\",\\\n        (6, r\" y=\\dfrac{e^{\\sin x+5}}{x-4} в точке x_0=0\"))\n \n    conn.commit()\n\n\n\n    cur.close()\nexcept sqlite3.Error as error:\n    print(\"Ошибка при подключении к sqlite\", error)\nfinally:\n    if (conn):\n        conn.close()\n        print(\"Соединение с SQLite закрыто\")",
      "metadata": {
        "source_hash": null,
        "execution_start": 1693774056514,
        "execution_millis": 52,
        "deepnote_to_be_reexecuted": false,
        "cell_id": "fbc235abaac74403915074a27f037bf9",
        "deepnote_cell_type": "code"
      },
      "outputs": [
        {
          "name": "stdout",
          "text": "База данных создана и успешно подключена к SQLite\nСоединение с SQLite закрыто\n",
          "output_type": "stream"
        }
      ],
      "execution_count": null,
      "block_group": "812a3b9e28b14653b60cedca77bfb9e4"
    },
    {
      "cell_type": "code",
      "source": "# Создание БД Итоговый тест 6\ntry:\n    conn = sqlite3.connect('questions.db')\n    cur = conn.cursor()\n    print(\"База данных создана и успешно подключена к SQLite\")\n\n    cur.execute(\"\"\"CREATE TABLE IF NOT EXISTS EQ6(\n    EQ6Id INT PRIMARY KEY,\n    question TEXT);\n    \"\"\")\n    conn.commit()\n\n    cur.execute(r\"INSERT INTO  EQ6(EQ6Id, question) VALUES(?, ?)\",\\\n        (1, r\" \\int \\left( 3x^2+x^{-3}+3\\sin(3x-1)+2 e^{-2x} \\right) dx\"))\n    cur.execute(r\"INSERT INTO EQ6(EQ6Id, question) VALUES(?, ?)\",\\\n        (2, r\" \\int \\left( \\frac{1}{2}x^2+3x^{-3}+\\frac{1}{3}\\sin(3x-1)+ e^{-2x} \\right) dx\"))\n    cur.execute(r\"INSERT INTO EQ6(EQ6Id, question) VALUES(?, ?)\",\\\n        (3, r\" \\int \\left( x^2+x^{-3}+3\\cos \\left( \\dfrac{x}{3}-1\\right) +2 e^{-\\dfrac{x}{2}} \\right) dx\"))\n    cur.execute(r\"INSERT INTO EQ6(EQ6Id, question) VALUES(?, ?)\",\\\n        (4, r\" \\int \\left( 5x^5+4x^{-5}+5\\sin(5x+1)+ e^{-x} \\right) dx\"))\n    cur.execute(r\"INSERT INTO EQ6(EQ6Id, question) VALUES(?, ?)\",\\\n        (5, r\" \\int \\left( 4x^3+x^{-2}+3\\cos(3x-1)+3 e^{-3x} \\right) dx\"))\n    cur.execute(r\"INSERT INTO EQ6(EQ6Id, question) VALUES(?, ?)\",\\\n        (6, r\" \\int \\left( 6x^5+\\dfrac{1}{x^{3}}+3\\cos(5-3x)+2 e^{-2x+7} \\right) dx\"))\n \n    conn.commit()\n\n\n\n    cur.close()\nexcept sqlite3.Error as error:\n    print(\"Ошибка при подключении к sqlite\", error)\nfinally:\n    if (conn):\n        conn.close()\n        print(\"Соединение с SQLite закрыто\")",
      "metadata": {
        "source_hash": null,
        "execution_start": 1693774056555,
        "execution_millis": 21,
        "deepnote_to_be_reexecuted": false,
        "cell_id": "e1847b7ecc7a4871a67f383d6cfccd25",
        "deepnote_cell_type": "code"
      },
      "outputs": [
        {
          "name": "stdout",
          "text": "База данных создана и успешно подключена к SQLite\nСоединение с SQLite закрыто\n",
          "output_type": "stream"
        }
      ],
      "execution_count": null,
      "block_group": "9a1a82e240d14efdb94c0176f3355948"
    },
    {
      "cell_type": "code",
      "source": "# Создание БД Итоговый тест 7\ntry:\n    conn = sqlite3.connect('questions.db')\n    cur = conn.cursor()\n    print(\"База данных создана и успешно подключена к SQLite\")\n\n    cur.execute(\"\"\"CREATE TABLE IF NOT EXISTS EQ7(\n    EQ7Id INT PRIMARY KEY,\n    question TEXT);\n    \"\"\")\n    conn.commit()\n\n    cur.execute(r\"INSERT INTO  EQ7(EQ7Id, question) VALUES(?, ?)\",\\\n        (1, r\" \\int\\limits_{-\\dfrac{\\pi}{4}}^{\\dfrac{\\pi}{6}} \\left( \\dfrac{5}{\\cos^2 5x} \\right) dx\"))\n    cur.execute(r\"INSERT INTO EQ7(EQ7Id, question) VALUES(?, ?)\",\\\n        (2, r\" \\int\\limits_{\\dfrac{\\pi}{4}}^{\\dfrac{\\pi}{2}} \\left( 10 - \\sin 2x \\right) dx\"))\n    cur.execute(r\"INSERT INTO EQ7(EQ7Id, question) VALUES(?, ?)\",\\\n        (3, r\" \\int\\limits_{\\dfrac{\\pi}{4}}^{\\dfrac{\\pi}{3}} \\left( \\dfrac{4}{\\sin^2 x} \\right) dx\"))\n    cur.execute(r\"INSERT INTO EQ7(EQ7Id, question) VALUES(?, ?)\",\\\n        (4, r\" \\int\\limits_{-1}^{1} \\left( 3e^x-12x \\right) dx\"))\n    cur.execute(r\"INSERT INTO EQ7(EQ7Id, question) VALUES(?, ?)\",\\\n        (5, r\" \\int\\limits_{-1}^{0} \\left( 16x+\\dfrac{1}{2}e^x\\right) dx\"))\n    cur.execute(r\"INSERT INTO EQ7(EQ7Id, question) VALUES(?, ?)\",\\\n        (6, r\" \\int\\limits_{\\frac{\\pi}{2}}^{\\pi} \\left( 4\\sin x-6 \\right) dx\"))\n \n    conn.commit()\n\n\n\n    cur.close()\nexcept sqlite3.Error as error:\n    print(\"Ошибка при подключении к sqlite\", error)\nfinally:\n    if (conn):\n        conn.close()\n        print(\"Соединение с SQLite закрыто\")",
      "metadata": {
        "source_hash": null,
        "execution_start": 1693774056556,
        "execution_millis": 42,
        "deepnote_to_be_reexecuted": false,
        "cell_id": "27711bd8a343412ba13c1c03aaa78f8e",
        "deepnote_cell_type": "code"
      },
      "outputs": [
        {
          "name": "stdout",
          "text": "База данных создана и успешно подключена к SQLite\nСоединение с SQLite закрыто\n",
          "output_type": "stream"
        }
      ],
      "execution_count": null,
      "block_group": "a047fc397c264d76a7df203bb82ca875"
    },
    {
      "cell_type": "code",
      "source": "# Создание БД Итоговый тест 8\ntry:\n    conn = sqlite3.connect('questions.db')\n    cur = conn.cursor()\n    print(\"База данных создана и успешно подключена к SQLite\")\n\n    cur.execute(\"\"\"CREATE TABLE IF NOT EXISTS EQ8(\n    EQ8Id INT PRIMARY KEY,\n    question TEXT);\n    \"\"\")\n    conn.commit()\n\n    cur.execute(r\"INSERT INTO  EQ8(EQ8Id, question) VALUES(?, ?)\",\\\n        (1, r\"y=\\frac{1}{3}x^3-\\frac{5}{2}x^2+6x\"))\n    cur.execute(r\"INSERT INTO EQ8(EQ8Id, question) VALUES(?, ?)\",\\\n        (2, r\" y=\\frac{2}{3}x^3-\\frac{10}{2}x^2+12x\"))\n    cur.execute(r\"INSERT INTO EQ8(EQ8Id, question) VALUES(?, ?)\",\\\n        (3, r\" y=\\frac{1}{3}x^3-\\frac{5}{2}x^2\"))\n    cur.execute(r\"INSERT INTO EQ8(EQ8Id, question) VALUES(?, ?)\",\\\n        (4, r\" y=x^5-5x\"))\n    cur.execute(r\"INSERT INTO EQ8(EQ8Id, question) VALUES(?, ?)\",\\\n        (5, r\" y=x^7-7x\"))\n \n    conn.commit()\n\n\n\n    cur.close()\nexcept sqlite3.Error as error:\n    print(\"Ошибка при подключении к sqlite\", error)\nfinally:\n    if (conn):\n        conn.close()\n        print(\"Соединение с SQLite закрыто\")",
      "metadata": {
        "source_hash": null,
        "execution_start": 1693774056568,
        "execution_millis": 34,
        "deepnote_to_be_reexecuted": false,
        "cell_id": "b0c4b57400ab41d5943106c5b9d48636",
        "deepnote_cell_type": "code"
      },
      "outputs": [
        {
          "name": "stdout",
          "text": "База данных создана и успешно подключена к SQLite\nСоединение с SQLite закрыто\n",
          "output_type": "stream"
        }
      ],
      "execution_count": null,
      "block_group": "7921e85932e74544b3c10685a971d9bd"
    },
    {
      "cell_type": "code",
      "source": "# Создание БД Итоговый тест 9\ntry:\n    conn = sqlite3.connect('questions.db')\n    cur = conn.cursor()\n    print(\"База данных создана и успешно подключена к SQLite\")\n\n    cur.execute(\"\"\"CREATE TABLE IF NOT EXISTS EQ9(\n    EQ9Id INT PRIMARY KEY,\n    question TEXT);\n    \"\"\")\n    conn.commit()\n\n    cur.execute(r\"INSERT INTO  EQ9(EQ9Id, question) VALUES(?, ?)\",\\\n        (1, r\" \\overline{a}(1,6,-4),\\overline{b}(0,-1,2)\"))\n    cur.execute(r\"INSERT INTO EQ9(EQ9Id, question) VALUES(?, ?)\",\\\n        (2, r\" \\overline{a}(-1,-6,4), \\overline{b}(0,1,-2)\"))\n    cur.execute(r\"INSERT INTO EQ9(EQ9Id, question) VALUES(?, ?)\",\\\n        (3, r\" \\overline{a}(-2,3,4), \\overline{b}(2,-3,1)\"))\n    cur.execute(r\"INSERT INTO EQ9(EQ9Id, question) VALUES(?, ?)\",\\\n        (4, r\"\\overline{a}(-2,3,4), \\overline{b}(1,-3,7)\"))\n    cur.execute(r\"INSERT INTO EQ9(EQ9Id, question) VALUES(?, ?)\",\\\n        (5, r\"  \\overline{a}(1,2,-4), \\overline{b}(-1,-1,2)\"))\n \n    conn.commit()\n\n\n\n    cur.close()\nexcept sqlite3.Error as error:\n    print(\"Ошибка при подключении к sqlite\", error)\nfinally:\n    if (conn):\n        conn.close()\n        print(\"Соединение с SQLite закрыто\")",
      "metadata": {
        "source_hash": null,
        "execution_start": 1693774056602,
        "execution_millis": 26,
        "deepnote_to_be_reexecuted": false,
        "cell_id": "5cca7efd48d24ca0b0d3a9c9f3ed9648",
        "deepnote_cell_type": "code"
      },
      "outputs": [
        {
          "name": "stdout",
          "text": "База данных создана и успешно подключена к SQLite\nСоединение с SQLite закрыто\n",
          "output_type": "stream"
        }
      ],
      "execution_count": null,
      "block_group": "39c76cf673d2456ca95d26d946f6b8de"
    },
    {
      "cell_type": "code",
      "source": "# Создание БД Итоговый тест 10\ntry:\n    conn = sqlite3.connect('questions.db')\n    cur = conn.cursor()\n    print(\"База данных создана и успешно подключена к SQLite\")\n\n    cur.execute(\"\"\"CREATE TABLE IF NOT EXISTS EQ10(\n    EQ10Id INT PRIMARY KEY,\n    question TEXT);\n    \"\"\")\n    conn.commit()\n\n    cur.execute(r\"INSERT INTO  EQ10(EQ10Id, question) VALUES(?, ?)\",\\\n        (1, r\" Найти координаты середины $K$ отрезка $MN$, если $M(-1,-2,7)$, $N(3,4,-1)$. В ответе указать их сумму.\"))\n    cur.execute(r\"INSERT INTO EQ10(EQ10Id, question) VALUES(?, ?)\",\\\n        (2, r\" Найти координаты середины $K$ отрезка $MN$, если $M(-4,3,-7)$, $N(4,-3,-1)$. В ответе указать их сумму.\"))\n    cur.execute(r\"INSERT INTO EQ10(EQ10Id, question) VALUES(?, ?)\",\\\n        (3, r\" Найти координаты середины $K$ отрезка $MN$, если $M(-5,0,9)$, $N(3,4,-1)$. В ответе указать их сумму.\"))\n    cur.execute(r\"INSERT INTO EQ10(EQ10Id, question) VALUES(?, ?)\",\\\n        (4, r\" Найти координаты середины $K$ отрезка $MN$, если $M(-1,4,2)$, $N(3,4,-6)$. В ответе указать их сумму.\"))\n    cur.execute(r\"INSERT INTO EQ10(EQ10Id, question) VALUES(?, ?)\",\\\n        (5, r\" Найти координаты середины $K$ отрезка $MN$, если $M(-4,8,-1)$, $N(-6,-8,-5)$. В ответе указать их сумму.\"))\n    cur.execute(r\"INSERT INTO EQ10(EQ10Id, question) VALUES(?, ?)\",\\\n        (6, r\" Найти координаты середины $K$ отрезка $MN$, если $M(-3,-2,7)$, $N(3,4,-7)$. В ответе указать их сумму.\"))\n \n    conn.commit()\n\n\n\n    cur.close()\nexcept sqlite3.Error as error:\n    print(\"Ошибка при подключении к sqlite\", error)\nfinally:\n    if (conn):\n        conn.close()\n        print(\"Соединение с SQLite закрыто\")",
      "metadata": {
        "source_hash": null,
        "execution_start": 1693774056604,
        "execution_millis": 33,
        "deepnote_to_be_reexecuted": false,
        "cell_id": "720f9b3a6a8b47728ab4c8d7cf82de20",
        "deepnote_cell_type": "code"
      },
      "outputs": [
        {
          "name": "stdout",
          "text": "База данных создана и успешно подключена к SQLite\nСоединение с SQLite закрыто\n",
          "output_type": "stream"
        }
      ],
      "execution_count": null,
      "block_group": "b1a36358ad1e407a80b27f1cd2eb761a"
    },
    {
      "cell_type": "code",
      "source": "# Создание БД Итоговый тест 11\ntry:\n    conn = sqlite3.connect('questions.db')\n    cur = conn.cursor()\n    print(\"База данных создана и успешно подключена к SQLite\")\n\n    cur.execute(\"\"\"CREATE TABLE IF NOT EXISTS EQ11(\n    EQ11Id INT PRIMARY KEY,\n    question TEXT);\n    \"\"\")\n    conn.commit()\n\n    cur.execute(r\"INSERT INTO  EQ11(EQ11Id, question) VALUES(?, ?)\",\\\n        (1, r\" Вычислить наименьшее значение функции $y=x^2-4x+3$ на отрезке $[0,3]$\"))\n    cur.execute(r\"INSERT INTO EQ11(EQ11Id, question) VALUES(?, ?)\",\\\n        (2, r\" Вычислить наименьшее значение функции $y=2 x^2-4x+3$ на отрезке $[0,1]$\"))\n    cur.execute(r\"INSERT INTO EQ11(EQ11Id, question) VALUES(?, ?)\",\\\n        (3, r\" Вычислить наибольшее значение функции $y=-x^2-4x+3$ на отрезке $[0,3]$\"))\n    cur.execute(r\"INSERT INTO EQ11(EQ11Id, question) VALUES(?, ?)\",\\\n        (4, r\" Вычислить наибольшее  значение функции $y=x^2-x-6$ на отрезке $[0,3]$\"))\n    cur.execute(r\"INSERT INTO EQ11(EQ11Id, question) VALUES(?, ?)\",\\\n        (5, r\" Вычислить наибольшее и наименьшее значение функции $y=3x^4+4x^3+1$ на отрезке $[-2,1]$\"))\n    cur.execute(r\"INSERT INTO EQ11(EQ11Id, question) VALUES(?, ?)\",\\\n        (6, r\" Вычислить наименьшее значение функции $y=x^2-4x+3$ на отрезке $[-4,-3]$\"))\n \n    conn.commit()\n\n\n\n    cur.close()\nexcept sqlite3.Error as error:\n    print(\"Ошибка при подключении к sqlite\", error)\nfinally:\n    if (conn):\n        conn.close()\n        print(\"Соединение с SQLite закрыто\")",
      "metadata": {
        "source_hash": null,
        "execution_start": 1693774056636,
        "execution_millis": 87,
        "deepnote_to_be_reexecuted": false,
        "cell_id": "50d4c084cd014fad8e3c523a585a8f0b",
        "deepnote_cell_type": "code"
      },
      "outputs": [
        {
          "name": "stdout",
          "text": "База данных создана и успешно подключена к SQLite\nСоединение с SQLite закрыто\n",
          "output_type": "stream"
        }
      ],
      "execution_count": null,
      "block_group": "4f7bd8e237d24f578d23fb56d2cd90c5"
    },
    {
      "cell_type": "code",
      "source": "# Создание БД Итоговый тест 12\ntry:\n    conn = sqlite3.connect('questions.db')\n    cur = conn.cursor()\n    print(\"База данных создана и успешно подключена к SQLite\")\n\n    cur.execute(\"\"\"CREATE TABLE IF NOT EXISTS EQ12(\n    EQ12Id INT PRIMARY KEY,\n    question TEXT);\n    \"\"\")\n    conn.commit()\n\n    cur.execute(r\"INSERT INTO  EQ12(EQ12Id, question) VALUES(?, ?)\",\\\n        (1, r\" Вычислить площадь фигуры ограниченной линиями $y=x^2-4x+5$, $y=0$, $x=-1$, $x=3$\"))\n    cur.execute(r\"INSERT INTO EQ12(EQ12Id, question) VALUES(?, ?)\",\\\n        (2, r\" Вычислить площадь фигуры ограниченной линиями $y=-x^2+4x-5$, $y=0$, $x=-1$, $x=3$\"))\n    cur.execute(r\"INSERT INTO EQ12(EQ12Id, question) VALUES(?, ?)\",\\\n        (3, r\" Вычислить площадь фигуры ограниченной линиями $y=x^2-4x+5$, $y=0$, $x=0$, $x=4$\"))\n    cur.execute(r\"INSERT INTO EQ12(EQ12Id, question) VALUES(?, ?)\",\\\n        (4, r\" Вычислить площадь фигуры ограниченной линиями $y=x^2-4x+5$, $y=5$\"))\n    cur.execute(r\"INSERT INTO EQ12(EQ12Id, question) VALUES(?, ?)\",\\\n        (5, r\" Вычислить площадь фигуры ограниченной линиями $y=-x^2+4x$, $y=0$\"))\n    cur.execute(r\"INSERT INTO EQ12(EQ12Id, question) VALUES(?, ?)\",\\\n        (6, r\" Вычислить площадь фигуры ограниченной линиями $y=-x^2-4x$, $y=1$, $x=-3$, $x=-1$\"))\n \n    conn.commit()\n\n\n\n    cur.close()\nexcept sqlite3.Error as error:\n    print(\"Ошибка при подключении к sqlite\", error)\nfinally:\n    if (conn):\n        conn.close()\n        print(\"Соединение с SQLite закрыто\")",
      "metadata": {
        "source_hash": null,
        "execution_start": 1693774056637,
        "execution_millis": 50,
        "deepnote_to_be_reexecuted": false,
        "cell_id": "2b624b00ffd44a9cba80d50dedd2deb6",
        "deepnote_cell_type": "code"
      },
      "outputs": [
        {
          "name": "stdout",
          "text": "База данных создана и успешно подключена к SQLite\nСоединение с SQLite закрыто\n",
          "output_type": "stream"
        }
      ],
      "execution_count": null,
      "block_group": "35a89dab41a5475ca1822af92b053db5"
    },
    {
      "cell_type": "code",
      "source": "# Создание БД Итоговый тест 13\ntry:\n    conn = sqlite3.connect('questions.db')\n    cur = conn.cursor()\n    print(\"База данных создана и успешно подключена к SQLite\")\n\n    cur.execute(\"\"\"CREATE TABLE IF NOT EXISTS EQ13(\n    EQ13Id INT PRIMARY KEY,\n    question TEXT);\n    \"\"\")\n    conn.commit()\n\n    cur.execute(r\"INSERT INTO  EQ13(EQ13Id, question) VALUES(?, ?)\",\\\n        (1, r\" A(2,3,4), B(-1,0,5), C(7,11,6),D(-3,2,-4).\"))\n    cur.execute(r\"INSERT INTO EQ13(EQ13Id, question) VALUES(?, ?)\",\\\n        (2, r\" A(1,6,4), B(0,-1,2), C(-1,2,7), D(0,5,1).\"))\n    cur.execute(r\"INSERT INTO EQ13(EQ13Id, question) VALUES(?, ?)\",\\\n        (3, r\" A(-2,3,4), B(-1,4,2), C(2,-3,6), D(1,-3,7).\"))\n    cur.execute(r\"INSERT INTO EQ13(EQ13Id, question) VALUES(?, ?)\",\\\n        (4, r\" A(-3,2,-1), B(2,-1,-3), C(1,-4,3), D(-1,2,-2).\"))\n    cur.execute(r\"INSERT INTO EQ13(EQ13Id, question) VALUES(?, ?)\",\\\n        (5, r\" A(5,-8,-1), B(6,-8,-2), C(7,-5,-11), D(7,-7,-9).\"))\n \n    conn.commit()\n\n\n\n    cur.close()\nexcept sqlite3.Error as error:\n    print(\"Ошибка при подключении к sqlite\", error)\nfinally:\n    if (conn):\n        conn.close()\n        print(\"Соединение с SQLite закрыто\")",
      "metadata": {
        "source_hash": null,
        "execution_start": 1693774056659,
        "execution_millis": 27,
        "deepnote_to_be_reexecuted": false,
        "cell_id": "dfdc777f1352471fa625ec838193564f",
        "deepnote_cell_type": "code"
      },
      "outputs": [
        {
          "name": "stdout",
          "text": "База данных создана и успешно подключена к SQLite\nСоединение с SQLite закрыто\n",
          "output_type": "stream"
        }
      ],
      "execution_count": null,
      "block_group": "a4c62e3b5e6b4e63a21bb13e12610aa0"
    },
    {
      "cell_type": "code",
      "source": "# Создание БД Итоговый тест 14\ntry:\n    conn = sqlite3.connect('questions.db')\n    cur = conn.cursor()\n    print(\"База данных создана и успешно подключена к SQLite\")\n\n    cur.execute(\"\"\"CREATE TABLE IF NOT EXISTS EQ14(\n    EQ14Id INT PRIMARY KEY,\n    question TEXT);\n    \"\"\")\n    conn.commit()\n\n    cur.execute(r\"INSERT INTO  EQ14(EQ14Id, question) VALUES(?, ?)\",\\\n        (1, r\" Найти косинус угла между диагоналями куба\"))\n    cur.execute(r\"INSERT INTO EQ14(EQ14Id, question) VALUES(?, ?)\",\\\n        (2, r\"  Найти тангенс угла между диагональю $BD_1$ куба  $ABCDA_1B_1C_1D_1$ и ребром $A_1D_1$\"))\n    cur.execute(r\"INSERT INTO EQ14(EQ14Id, question) VALUES(?, ?)\",\\\n        (3, r\" Найти угол между диагональю прямоугольного параллелепипеда $B_1D$ и  гранью $AA_1D_1D$, если $AB=6$, $AD=8$, $AA_1=10$\"))\n    cur.execute(r\"INSERT INTO EQ14(EQ14Id, question) VALUES(?, ?)\",\\\n        (4, r\"Найти угол между диагональю $AC_1$ гранью $BB_1C_1C$ прямоугольного параллелепипеда $ABCDA_1B_1C_1D_1$, если $AB=3$, $AC=2$, $AA_1=5$\"))\n    cur.execute(r\"INSERT INTO EQ14(EQ14Id, question) VALUES(?, ?)\",\\\n        (5, r\" Найти угол между боковым ребром и плоскостью основания правильной треугольной пирамиды, все ребра которой равны 2\"))\n \n    conn.commit()\n\n\n\n    cur.close()\nexcept sqlite3.Error as error:\n    print(\"Ошибка при подключении к sqlite\", error)\nfinally:\n    if (conn):\n        conn.close()\n        print(\"Соединение с SQLite закрыто\")",
      "metadata": {
        "source_hash": null,
        "execution_start": 1693774056677,
        "execution_millis": 64,
        "deepnote_to_be_reexecuted": false,
        "cell_id": "d887d38e013141f9b7e719c8590530c6",
        "deepnote_cell_type": "code"
      },
      "outputs": [
        {
          "name": "stdout",
          "text": "База данных создана и успешно подключена к SQLite\nСоединение с SQLite закрыто\n",
          "output_type": "stream"
        }
      ],
      "execution_count": null,
      "block_group": "4482699c4ac6493eb12711c7ef83fca1"
    },
    {
      "cell_type": "code",
      "source": "# Создание БД Итоговый тест 15\ntry:\n    conn = sqlite3.connect('questions.db')\n    cur = conn.cursor()\n    print(\"База данных создана и успешно подключена к SQLite\")\n\n    cur.execute(\"\"\"CREATE TABLE IF NOT EXISTS EQ15(\n    EQ15Id INT PRIMARY KEY,\n    question TEXT);\n    \"\"\")\n    conn.commit()\n\n    cur.execute(r\"INSERT INTO  EQ15(EQ15Id, question) VALUES(?, ?)\",\\\n        (1, r\" Построить сечение куба $ABCDA_1B_1C_1D_1$ плоскостью проходящей через точки $M$, $N$, $A$, где $M$ - середина ребра $CC_1$, $N$ лежит на ребре $B_1C_1$  и делит его в отношении 2:3 считая от вершины $B_1$\"))\n    cur.execute(r\"INSERT INTO EQ15(EQ15Id, question) VALUES(?, ?)\",\\\n        (2, r\" Построить сечение куба $ABCDA_1B_1C_1D_1$ плоскостью проходящей через точки $M$, $N$, $D$. Где $M$ - середина ребра $CC_1$, точка $N$  делит ребро $B_1C_1$ в отношении 1:3 считая от вершины $C_1$.\"))\n    cur.execute(r\"INSERT INTO EQ15(EQ15Id, question) VALUES(?, ?)\",\\\n        (3, r\" Построить сечение куба $ABCDA_1B_1C_1D_1$ плоскостью проходящей через точки $M$, $N$, $A$. $M$ - середина ребра $DD_1$, $N$ - лежит на ребре $BC$, причем  $BN:NC=1:2$.\"))\n    cur.execute(r\"INSERT INTO EQ15(EQ15Id, question) VALUES(?, ?)\",\\\n        (4, r\" Построить сечение куба $ABCDA_1B_1C_1D_1$ плоскостью проходящей через точки $M$, $N$, $D$. $M$ середина ребра $BB_1$, $N$ лежит на ребре $A_1D_1$ и делит его в отношении 2:3 считая от вершины $A_1$.\"))\n    cur.execute(r\"INSERT INTO EQ15(EQ15Id, question) VALUES(?, ?)\",\\\n        (5, r\"Построить сечение куба $ABCDA_1B_1C_1D_1$ плоскостью проходящей через точки $M$, $N$, $B$. $M$ - середина ребра $DD_1$, $N$ - середина ребра $DC$.\"))\n    cur.execute(r\"INSERT INTO EQ15(EQ15Id, question) VALUES(?, ?)\",\\\n        (6, r\" Построить сечение куба $ABCDA_1B_1C_1D_1$ плоскостью проходящей через точки $M$, $N$, $A_1$. $M$  середина ребра $CD$, $N$ лежит на ребре $B_1C_1$ и делит его в отношении 1:4 считая от вершины $C_1$.\"))\n \n    conn.commit()\n\n\n\n    cur.close()\nexcept sqlite3.Error as error:\n    print(\"Ошибка при подключении к sqlite\", error)\nfinally:\n    if (conn):\n        conn.close()\n        print(\"Соединение с SQLite закрыто\")",
      "metadata": {
        "source_hash": null,
        "execution_start": 1693774056706,
        "execution_millis": 58,
        "deepnote_to_be_reexecuted": false,
        "cell_id": "fd194b893aac4a9182b42e3332b95444",
        "deepnote_cell_type": "code"
      },
      "outputs": [
        {
          "name": "stdout",
          "text": "База данных создана и успешно подключена к SQLite\nСоединение с SQLite закрыто\n",
          "output_type": "stream"
        }
      ],
      "execution_count": null,
      "block_group": "8d29ca025e8f468da219b969e1d5ed04"
    },
    {
      "cell_type": "code",
      "source": "# Создание БД Итоговый тест 16\ntry:\n    conn = sqlite3.connect('questions.db')\n    cur = conn.cursor()\n    print(\"База данных создана и успешно подключена к SQLite\")\n\n    cur.execute(\"\"\"CREATE TABLE IF NOT EXISTS EQ16(\n    EQ16Id INT PRIMARY KEY,\n    question TEXT);\n    \"\"\")\n    conn.commit()\n\n    cur.execute(r\"INSERT INTO  EQ16(EQ16Id, question) VALUES(?, ?)\",\\\n        (1, r\" Найти объем и площадь боковой поверхности пирамиды SABC, в основании которой лежит прямоугольный треугольник с катетами AC=6 и BC=8, и высотой SC=2.\"))\n    cur.execute(r\"INSERT INTO EQ16(EQ16Id, question) VALUES(?, ?)\",\\\n        (2, r\" Найти объем   пирамиды SABC, в основании которой лежит равнобедренный треугольник ABC с основанием AC=4. Основанием высоты пирамиды является точка H - середина ребра AC, причем SH=3, BH=4.\"))\n    cur.execute(r\"INSERT INTO EQ16(EQ16Id, question) VALUES(?, ?)\",\\\n        (3, r\"  Найти  площадь боковой поверхности пирамиды SABC в основании которой лежит правильный треугольник ABC со стороной равной 3. Высота пирамиды SA=3.\"))\n    cur.execute(r\"INSERT INTO EQ16(EQ16Id, question) VALUES(?, ?)\",\\\n        (4, r\" Найти объем  пирамиды SABC, в основании которой лежит равносторонний треугольник с высотой равной 4, а высота пирамиды SA=7.\"))\n    cur.execute(r\"INSERT INTO EQ16(EQ16Id, question) VALUES(?, ?)\",\\\n        (5, r\"  Найти объем  пирамиды SABC, в основании которой лежит равносторонний треугольник с высотой равной 4, а высота пирамиды SA=3.\"))\n    cur.execute(r\"INSERT INTO EQ16(EQ16Id, question) VALUES(?, ?)\",\\\n        (6, r\" Найти объем и площадь боковой поверхности пирамиды SABC, в основании которой лежит равнобедренный прямоугольный треугольник ABC с гипотенузой AB=2\\sqrt{2} и высотой SC=4. \"))\n \n    conn.commit()\n\n\n\n    cur.close()\nexcept sqlite3.Error as error:\n    print(\"Ошибка при подключении к sqlite\", error)\nfinally:\n    if (conn):\n        conn.close()\n        print(\"Соединение с SQLite закрыто\")",
      "metadata": {
        "source_hash": null,
        "execution_start": 1693774056724,
        "execution_millis": 68,
        "deepnote_to_be_reexecuted": false,
        "cell_id": "2ea875f44569460b860f3d6f79be34aa",
        "deepnote_cell_type": "code"
      },
      "outputs": [
        {
          "name": "stdout",
          "text": "База данных создана и успешно подключена к SQLite\nСоединение с SQLite закрыто\n",
          "output_type": "stream"
        }
      ],
      "execution_count": null,
      "block_group": "79a909cb57974e3a995da6e3d250dcda"
    },
    {
      "cell_type": "code",
      "source": "# Создание БД Итоговый тест 17\ntry:\n    conn = sqlite3.connect('questions.db')\n    cur = conn.cursor()\n    print(\"База данных создана и успешно подключена к SQLite\")\n\n    cur.execute(\"\"\"CREATE TABLE IF NOT EXISTS EQ17(\n    EQ17Id INT PRIMARY KEY,\n    question TEXT);\n    \"\"\")\n    conn.commit()\n\n    cur.execute(r\"INSERT INTO  EQ17(EQ17Id, question) VALUES(?, ?)\",\\\n        (1, r\"  Найти площадь боковой поверхности конуса, если радиус основания конуса равен 3, а образующая наклонена к плоскости основания под углам 60 градусов.\"))\n    cur.execute(r\"INSERT INTO EQ17(EQ17Id, question) VALUES(?, ?)\",\\\n        (2, r\" Найти площадь сечения цилиндра, расположенного на расстоянии 3 от его оси, если высота цилиндра равна 7, а радиус основания цилиндра равен 5.\"))\n    cur.execute(r\"INSERT INTO EQ17(EQ17Id, question) VALUES(?, ?)\",\\\n        (3, r\"  Найти  площадь боковой поверхности пирамиды SABC в основании которой лежит правильный треугольник ABC со стороной равной 3. Высота пирамиды SA=3.\"))\n    cur.execute(r\"INSERT INTO EQ17(EQ17Id, question) VALUES(?, ?)\",\\\n        (4, r\" В основании конуса лежит круг радиуса 9. Высота конуса равна 4. Найти объем и площадь боковой поверхности конуса.\"))\n    cur.execute(r\"INSERT INTO EQ17(EQ17Id, question) VALUES(?, ?)\",\\\n        (5, r\" В основании конуса лежит круг радиуса 2. Высота конуса равна 4. Найти объем и площадь боковой поверхности конуса.\"))\n    cur.execute(r\"INSERT INTO EQ17(EQ17Id, question) VALUES(?, ?)\",\\\n        (6, r\"  В основании конуса проведена хорда $AB=6$, расположенная на расстоянии 1 от центра основания точки O. Найти объем конуса, если его высота равна~3.\"))\n    cur.execute(r\"INSERT INTO EQ17(EQ17Id, question) VALUES(?, ?)\",\\\n        (7, r\"   Дан цилиндр с высотой равной 3 и радиусом основания равным 2. Найти площадь боковой поверхности цилиндра.\"))\n \n    conn.commit()\n\n\n\n    cur.close()\nexcept sqlite3.Error as error:\n    print(\"Ошибка при подключении к sqlite\", error)\nfinally:\n    if (conn):\n        conn.close()\n        print(\"Соединение с SQLite закрыто\")",
      "metadata": {
        "source_hash": null,
        "execution_start": 1693774056746,
        "execution_millis": 40,
        "deepnote_to_be_reexecuted": false,
        "cell_id": "50a4d081890e440cbb7be616bbe1045e",
        "deepnote_cell_type": "code"
      },
      "outputs": [
        {
          "name": "stdout",
          "text": "База данных создана и успешно подключена к SQLite\nСоединение с SQLite закрыто\n",
          "output_type": "stream"
        }
      ],
      "execution_count": null,
      "block_group": "60905fd3890c45188fd84d53b3ef8349"
    },
    {
      "cell_type": "code",
      "source": "# Создание БД Итоговый тест 18\ntry:\n    conn = sqlite3.connect('questions.db')\n    cur = conn.cursor()\n    print(\"База данных создана и успешно подключена к SQLite\")\n\n    cur.execute(\"\"\"CREATE TABLE IF NOT EXISTS EQ18(\n    EQ18Id INT PRIMARY KEY,\n    question TEXT);\n    \"\"\")\n    conn.commit()\n\n    cur.execute(r\"INSERT INTO  EQ18(EQ18Id, question) VALUES(?, ?)\",\\\n        (1, r\" Дана сфера с радиусом равным 5~см. Найти площадь сечения сферы плоскостью, находящейся на расстоянии 3~см от центра.\"))\n    cur.execute(r\"INSERT INTO EQ18(EQ18Id, question) VALUES(?, ?)\",\\\n        (2, r\" Дана сфера с радиусом равным 7~см. Найти площадь сечения сферы плоскостью, находящейся на расстоянии 3~см от центра.\"))\n    cur.execute(r\"INSERT INTO EQ18(EQ18Id, question) VALUES(?, ?)\",\\\n        (3, r\" Найти площадь сечения сферы плоскостью, находящейся на расстоянии 5 от центра, если радиус сферы равен 13.\"))\n    cur.execute(r\"INSERT INTO EQ18(EQ18Id, question) VALUES(?, ?)\",\\\n        (4, r\" Объем шара равен 288\\pi. Найдите площадь его поверхности.\"))\n    cur.execute(r\"INSERT INTO EQ18(EQ18Id, question) VALUES(?, ?)\",\\\n        (5, r\"Объем шара равен 288$\\pi$. Найдите площадь сечения шара плоскостью, находящейся на расстоянии 1 от его центра.\"))\n    cur.execute(r\"INSERT INTO EQ18(EQ18Id, question) VALUES(?, ?)\",\\\n        (6, r\"  Шар радиуса 5 пересекает  плоскость, которая удалена от центра на расстояние 3. Найти площадь сечения шара этой плоскостью.\"))\n   \n    conn.commit()\n\n\n\n    cur.close()\nexcept sqlite3.Error as error:\n    print(\"Ошибка при подключении к sqlite\", error)\nfinally:\n    if (conn):\n        conn.close()\n        print(\"Соединение с SQLite закрыто\")",
      "metadata": {
        "source_hash": null,
        "execution_start": 1693774056759,
        "execution_millis": 42,
        "deepnote_to_be_reexecuted": false,
        "cell_id": "652e0a4df2f7485ab5f77d29cd0e53c0",
        "deepnote_cell_type": "code"
      },
      "outputs": [
        {
          "name": "stdout",
          "text": "База данных создана и успешно подключена к SQLite\nСоединение с SQLite закрыто\n",
          "output_type": "stream"
        }
      ],
      "execution_count": null,
      "block_group": "ab6fe9074ade4d99845d531b54502994"
    },
    {
      "cell_type": "code",
      "source": "# Создание БД\ntry:\n    conn = sqlite3.connect('questions.db')\n    cur = conn.cursor()\n    print(\"База данных создана и успешно подключена к SQLite\")\n\n    cur.execute(\"\"\"CREATE TABLE IF NOT EXISTS TerVerPr1(\n    TerVerPr1Id INT PRIMARY KEY,\n    question TEXT);\n    \"\"\")\n    conn.commit()\n\n    cur.execute(r\"INSERT INTO  TerVerPr1(TerVerPr1Id, question) VALUES(?, ?)\",\\\n        (1, r\"Вычислить $C_6^4$; $A_6^2$; $P_6$.\"))\n    cur.execute(r\"INSERT INTO TerVerPr1(TerVerPr1Id, question) VALUES(?, ?)\",\\\n        (2, r\"Вычислить $C_7^5$; $A_5^2$; $P_7$.\"))\n    cur.execute(r\"INSERT INTO TerVerPr1(TerVerPr1Id, question) VALUES(?, ?)\",\\\n        (3, r\"Вычислить\t$C_{10}^3$;  $A_7^4$;  $P_3$.\"))\n    cur.execute(r\"INSERT INTO TerVerPr1(TerVerPr1Id, question) VALUES(?, ?)\",\\\n        (4, r\"Вычислить $C_{9}^3$; $A_9^4$; $P_7$.\"))\n    cur.execute(r\"INSERT INTO TerVerPr1(TerVerPr1Id, question) VALUES(?, ?)\",\\\n        (5, r\"Вычислить $C_{7}^3\\cdot 3!$; $\\frac{A_9^4}{0!}$; $P_4$.\"))\n    cur.execute(r\"INSERT INTO TerVerPr1(TerVerPr1Id, question) VALUES(?, ?)\",\\\n        (6, r\"Вычислить $C_{25}^{23}\\cdot 3!$; $A_9^4$; $\\frac{P_4}{3!}$.\"))\n    cur.execute(r\"INSERT INTO TerVerPr1(TerVerPr1Id, question) VALUES(?, ?)\",\\\n        (7, r\"Вычислить $C_{21}^{19}\\cdot 4!$;  $A_6^4$; $\\frac{7!}{P_4}$.\"))\n    cur.execute(r\"INSERT INTO TerVerPr1(TerVerPr1Id, question) VALUES(?, ?)\",\\\n        (8, r\"Вычислить $C_{17}^{15}\\cdot 3!$;  $A_9^7$;  $\\frac{8!}{P_5}$.\"))\n    cur.execute(r\"INSERT INTO TerVerPr1(TerVerPr1Id, question) VALUES(?, ?)\",\\\n        (9, r\"Вычислить $C_{31}^{29}\\cdot 4!$;  $A_{10}^8$; $\\frac{10!}{P_8}$.\"))\n    cur.execute(r\"INSERT INTO TerVerPr1(TerVerPr1Id, question) VALUES(?, ?)\",\\\n        (10, r\"Вычислить $C_{41}^{39}\\cdot 4!$;  $A_{12}^{10}$; $\\frac{10!}{P_7}$.\"))\n    cur.execute(r\"INSERT INTO TerVerPr1(TerVerPr1Id, question) VALUES(?, ?)\",\\\n        (11, r\"Вычислить $C_{39}^{36}$; $A_{13}^{10}$; $\\frac{5!}{P_7}$.\"))\n    cur.execute(r\"INSERT INTO TerVerPr1(TerVerPr1Id, question) VALUES(?, ?)\",\\\n        (12, r\"Вычислить $C_{37}^{35}$; $A_{14}^{12}$; $\\frac{11!}{P_8}$.\"))\n    cur.execute(r\"INSERT INTO TerVerPr1(TerVerPr1Id, question) VALUES(?, ?)\",\\\n        (13, r\"Вычислить $C_{17}^{3}$; $A_{11}^{8}$; $\\frac{6!}{P_8}$.\"))\n    cur.execute(r\"INSERT INTO TerVerPr1(TerVerPr1Id, question) VALUES(?, ?)\",\\\n        (14, r\"Вычислить $C_{17}^{13}$; $A_{12}^{8}$;  $\\frac{12!}{P_9}$.\"))\n    cur.execute(r\"INSERT INTO TerVerPr1(TerVerPr1Id, question) VALUES(?, ?)\",\\\n        (15, r\"Вычислить $C_{12}^{7}$; $A_{14}^{10}$; $\\frac{11!}{P_9}$.\"))\n    cur.execute(r\"INSERT INTO TerVerPr1(TerVerPr1Id, question) VALUES(?, ?)\",\\\n        (16, r\"Вычислить $C_{16}^{13}$; $A_{16}^{3}$; $\\frac{13!}{P_{10}}$.\"))\n    cur.execute(r\"INSERT INTO TerVerPr1(TerVerPr1Id, question) VALUES(?, ?)\",\\\n        (17, r\"Вычислить $C_{17}^{3}$; $A_{20}^{3}$; $\\frac{13!}{P_{10}}$.\"))\n    cur.execute(r\"INSERT INTO TerVerPr1(TerVerPr1Id, question) VALUES(?, ?)\",\\\n        (18, r\"Вычислить $C_{15}^{5}$; $A_{11}^{3}$; $\\frac{10!}{P_{10}}$.\"))\n    cur.execute(r\"INSERT INTO TerVerPr1(TerVerPr1Id, question) VALUES(?, ?)\",\\\n        (19, r\"Вычислить $C_{10}^{2}$; $A_{10}^{3}$; $\\frac{9!}{P_{10}}$.\"))\n    cur.execute(r\"INSERT INTO TerVerPr1(TerVerPr1Id, question) VALUES(?, ?)\",\\\n        (20, r\"Вычислить $C_{14}^{3}$; $A_{7}^{2}$; $\\frac{9! \\cdot 11}{P_{11}}$.\"))\n    cur.execute(r\"INSERT INTO TerVerPr1(TerVerPr1Id, question) VALUES(?, ?)\",\\\n        (21, r\"Вычислить $C_5^2$; $A_6^2$; $P_4 \\cdot 0!$.\"))\n    cur.execute(r\"INSERT INTO TerVerPr1(TerVerPr1Id, question) VALUES(?, ?)\",\\\n        (22, r\"Вычислить $C_7^5$; $A_6^2$; $P_7$.\"))\n    cur.execute(r\"INSERT INTO TerVerPr1(TerVerPr1Id, question) VALUES(?, ?)\",\\\n        (23, r\"Вычислить $C_{11}^4$; $A_11^4$; $P_5$.\"))\n    cur.execute(r\"INSERT INTO TerVerPr1(TerVerPr1Id, question) VALUES(?, ?)\",\\\n        (24, r\"Вычислить $C_{9}^3$; $A_9^4$; $P_7\\cdot 0!$.\"))\n    cur.execute(r\"INSERT INTO TerVerPr1(TerVerPr1Id, question) VALUES(?, ?)\",\\\n        (25, r\"Вычислить $C_{39}^{36}$; $A_{13}^{10}$; $\\frac{5!}{P_7}$.\"))\n\n    conn.commit()\n\n\n\n    cur.close()\nexcept sqlite3.Error as error:\n    print(\"Ошибка при подключении к sqlite\", error)\nfinally:\n    if (conn):\n        conn.close()\n        print(\"Соединение с SQLite закрыто\")",
      "metadata": {
        "source_hash": null,
        "execution_start": 1693774056786,
        "execution_millis": 38,
        "deepnote_to_be_reexecuted": false,
        "cell_id": "e5c7dab12d5449009f63696c0986ef84",
        "deepnote_cell_type": "code"
      },
      "outputs": [
        {
          "name": "stdout",
          "text": "База данных создана и успешно подключена к SQLite\nСоединение с SQLite закрыто\n",
          "output_type": "stream"
        }
      ],
      "execution_count": null,
      "block_group": "3790d840c82e4bbda66765b9b4715188"
    },
    {
      "cell_type": "code",
      "source": "# Создание БД\ntry:\n    conn = sqlite3.connect('questions.db')\n    cur = conn.cursor()\n    print(\"База данных создана и успешно подключена к SQLite\")\n\n    cur.execute(\"\"\"CREATE TABLE IF NOT EXISTS TerVerPr2(\n    TerVerPr2Id INT PRIMARY KEY,\n    question TEXT);\n    \"\"\")\n    conn.commit()\n\n    cur.execute(r\"INSERT INTO  TerVerPr2(TerVerPr2Id, question) VALUES(?, ?)\",\\\n        (1, r\"Куб, все грани которого окрашены, распилен на тысячу кубиков одинакового размера. Полученные кубики тщательно перемешаны. Определить вероятность того, что наудачу извлеченный кубик будет иметь две окрашенные грани.\"))\n    cur.execute(r\"INSERT INTO TerVerPr2(TerVerPr2Id, question) VALUES(?, ?)\",\\\n        (2, r\"Куб, все грани которого окрашены, распилен на тысячу кубиков одинакового размера. Полученные кубики тщательно перемешаны. Определить вероятность того, что наудачу извлеченный кубик будет иметь одну окрашенную грань.\"))\n    cur.execute(r\"INSERT INTO TerVerPr2(TerVerPr2Id, question) VALUES(?, ?)\",\\\n        (3, r\"В группе спортсменов 7 лыжников и 3 бегуна. Случайным образом взяли 3 спортсмена. Найти вероятность того, что все 3 спортсмена окажутся лыжниками.\"))\n    cur.execute(r\"INSERT INTO TerVerPr2(TerVerPr2Id, question) VALUES(?, ?)\",\\\n        (4, r\"В группе спортсменов 6 лыжников и 4 бегуна. Случайным образом взяли 3 спортсмена. Найти вероятность того, что все 3 спортсмена окажутся лыжниками.\"))\n    cur.execute(r\"INSERT INTO TerVerPr2(TerVerPr2Id, question) VALUES(?, ?)\",\\\n        (5, r\"В группе спортсменов 6 лыжников и 4 конькобежца. Случайным образом взяли 3 спортсмена. Найти вероятность того, что среди них два спортсмена окажутся лыжниками и один конькобежцем.\"))\n    cur.execute(r\"INSERT INTO TerVerPr2(TerVerPr2Id, question) VALUES(?, ?)\",\\\n        (6, r\"Из восьми книг две художественные. Найти вероятность того, что среди взятых наугад четырех книг, хотя бы одна художественная.\"))\n    cur.execute(r\"INSERT INTO TerVerPr2(TerVerPr2Id, question) VALUES(?, ?)\",\\\n        (7, r\"На полке 6 радиоламп, из которых две негодные. Случайным образом отбираются две радиолампы. Какова вероятность того, что они годны для использования?\"))\n    cur.execute(r\"INSERT INTO TerVerPr2(TerVerPr2Id, question) VALUES(?, ?)\",\\\n        (8, r\"В запасе ремонтной мастерской 10 поршневых колец, три из них восстановленные. Определить вероятность того, что среди взятых наугад четырех колец два окажутся восстановленными?\"))\n    cur.execute(r\"INSERT INTO TerVerPr2(TerVerPr2Id, question) VALUES(?, ?)\",\\\n        (9, r\"Десять студентов условились ехать определенным рейсом электропоезда с 10 загонами, но не договорились о номере вагона. Какова вероятность того, что ни один из них не встретится с другим, если возможности в размещении студентов по вагонам равновероятны?\"))\n    cur.execute(r\"INSERT INTO TerVerPr2(TerVerPr2Id, question) VALUES(?, ?)\",\\\n        (10, r\" Из 10 билетов два выигрышных. Найти вероятность того, что среди взятых наудачу 5 билетов один выигрышный.\"))\n    cur.execute(r\"INSERT INTO TerVerPr2(TerVerPr2Id, question) VALUES(?, ?)\",\\\n        (11, r\"В группе из 8 спортсменов шесть мастеров спорта. Найти вероятность того, что из двух случайным образом отобранных спортсменов ровно один – мастер спорта.\"))\n    cur.execute(r\"INSERT INTO TerVerPr2(TerVerPr2Id, question) VALUES(?, ?)\",\\\n        (12, r\"Из партии деталей, среди которых 100 стандартных и 5 бракованных, для контроля наугад взято 12 шт. При контроле выяснилось, что первые 10 из 12 деталей – стандартные. Определить вероятность того, что следующая деталь будет стандартной.\"))\n    cur.execute(r\"INSERT INTO TerVerPr2(TerVerPr2Id, question) VALUES(?, ?)\",\\\n        (13, r\"Из партии деталей, среди которых 100 стандартных и 5 бракованных, для контроля наугад взято 12 шт. При контроле выяснилось, что первые 10 из 12 деталей – стандартные. Определить вероятность того, что следующая деталь будет стандартной.\"))\n    cur.execute(r\"INSERT INTO TerVerPr2(TerVerPr2Id, question) VALUES(?, ?)\",\\\n        (14, r\"Буквенный замок содержит на общей оси 5 дисков, каждый из которых разделен на 6 секторов с различными нанесенными на них буквами. Замок открывается только в том случае, если каждый диск занимает одно определенное положение относительно корпуса замка. Определить вероятность открыть замок, если установлена произвольная комбинация букв.\"))\n    cur.execute(r\"INSERT INTO TerVerPr2(TerVerPr2Id, question) VALUES(?, ?)\",\\\n        (15, r\"На десяти одинаковых карточках написаны различные числа от 0 до 9. Определить вероятность того, что случайно составленное с помощью данных карточек двузначное число делится на 18.\"))\n    cur.execute(r\"INSERT INTO TerVerPr2(TerVerPr2Id, question) VALUES(?, ?)\",\\\n        (16, r\"На полке случайным образом расставляются 10 книг. Определить вероятность того, что при этом три определенные, книги окажутся стоящими рядом.\"))\n    cur.execute(r\"INSERT INTO TerVerPr2(TerVerPr2Id, question) VALUES(?, ?)\",\\\n        (17, r\"На полке случайным образом расставляются 13 книг. Определить вероятность того, что при этом три определенные, книги окажутся стоящими рядом.\"))\n    cur.execute(r\"INSERT INTO TerVerPr2(TerVerPr2Id, question) VALUES(?, ?)\",\\\n        (18, r\"Из пруда, в котором плавают 40 щук, выловили 5 щук, пометили их и пустили обратно в пруд. Во второй раз выловили 9 щук. Какова вероятность, что среди них окажутся только две помеченные щуки?\"))\n    cur.execute(r\"INSERT INTO TerVerPr2(TerVerPr2Id, question) VALUES(?, ?)\",\\\n        (19, r\"Из пруда, в котором плавают 40 щук, выловили 5 щук, пометили их и пустили обратно в пруд. Во второй раз выловили 9 щук. Какова вероятность, что среди них окажутся только три помеченные щуки?\"))\n    cur.execute(r\"INSERT INTO TerVerPr2(TerVerPr2Id, question) VALUES(?, ?)\",\\\n        (20, r\"Из пруда, в котором плавают 40 щук, выловили 5 щук, пометили их и пустили обратно в пруд. Во второй раз выловили 9 щук. Какова вероятность, что среди них окажется только одна помеченная щука?\"))\n    cur.execute(r\"INSERT INTO TerVerPr2(TerVerPr2Id, question) VALUES(?, ?)\",\\\n        (21, r\"Куб, все грани которого окрашены, распилен на тысячу кубиков одинакового размера. Полученные кубики тщательно перемешаны. Определить вероятность того, что наудачу извлеченный кубик будет иметь три окрашенные грани.\"))\n    cur.execute(r\"INSERT INTO TerVerPr2(TerVerPr2Id, question) VALUES(?, ?)\",\\\n        (22, r\"В урне 3 белых и 7 черных шаров. Какова вероятность того, что извлеченные наугад два шара окажутся черными?\"))\n    cur.execute(r\"INSERT INTO TerVerPr2(TerVerPr2Id, question) VALUES(?, ?)\",\\\n        (23, r\"Мальчик забыл две последние цифры номера телефона одноклассника   и набрал их наугад, помня только, что эти цифры нечетны и различны. Найти вероятность того, что номер набран правильно.\"))\n    cur.execute(r\"INSERT INTO TerVerPr2(TerVerPr2Id, question) VALUES(?, ?)\",\\\n        (24, r\"В группе спортсменов 6 лыжников и 4 бегуна. Случайным образом взяли 3 спортсмена. Найти вероятность того, что все 3 спортсмена окажутся бегунами.\"))\n    cur.execute(r\"INSERT INTO TerVerPr2(TerVerPr2Id, question) VALUES(?, ?)\",\\\n        (25, r\"В группе из 8 спортсменов шесть мастеров спорта. Найти вероятность того, что из двух случайным образом отобранных спортсменов ровно один – мастер спорта.\"))\n\n    conn.commit()\n\n\n\n    cur.close()\nexcept sqlite3.Error as error:\n    print(\"Ошибка при подключении к sqlite\", error)\nfinally:\n    if (conn):\n        conn.close()\n        print(\"Соединение с SQLite закрыто\")",
      "metadata": {
        "source_hash": null,
        "execution_start": 1693774056819,
        "execution_millis": 44,
        "deepnote_to_be_reexecuted": false,
        "cell_id": "366013116bbd474fa1d809703f34b904",
        "deepnote_cell_type": "code"
      },
      "outputs": [
        {
          "name": "stdout",
          "text": "База данных создана и успешно подключена к SQLite\nСоединение с SQLite закрыто\n",
          "output_type": "stream"
        }
      ],
      "execution_count": null,
      "block_group": "15de66aa6947413f98f54ef2cf8574fa"
    },
    {
      "cell_type": "code",
      "source": "# Создание БД\ntry:\n    conn = sqlite3.connect('questions.db')\n    cur = conn.cursor()\n    print(\"База данных создана и успешно подключена к SQLite\")\n\n    cur.execute(\"\"\"CREATE TABLE IF NOT EXISTS TerVerPr3(\n    TerVerPr3Id INT PRIMARY KEY,\n    question TEXT);\n    \"\"\")\n    conn.commit()\n\n    cur.execute(r\"INSERT INTO  TerVerPr3(TerVerPr3Id, question) VALUES(?, ?)\",\\\n        (1, r\"На железобетонном заводе изготовляют панели, 90 $\\%$ из которых – высшего сорта. Какова вероятность того, что из трёх наугад выбранных панелей высшего сорта будут три панели. \"))\n    cur.execute(r\"INSERT INTO TerVerPr3(TerVerPr3Id, question) VALUES(?, ?)\",\\\n        (2, r\"В блок входят три радиолампы. Вероятности выхода из строя в течение гарантийного срока для них соответственно равны: 0,3; 0,2; 0,4. Какова вероятность того, что в течение гарантийного срока выйдут из строя не менее двух радиоламп.\"))\n    cur.execute(r\"INSERT INTO TerVerPr3(TerVerPr3Id, question) VALUES(?, ?)\",\\\n        (3, r\"В первом ящике 20 деталей, 15 из них – стандартные, во втором ящике 30 деталей, 25 из них – стандартные. Из каждого ящика наугад берут по одной детали. Какова вероятность того, что обе детали будут стандартными.  \"))\n    cur.execute(r\"INSERT INTO TerVerPr3(TerVerPr3Id, question) VALUES(?, ?)\",\\\n        (4, r\"Вероятность поражения цели первым стрелком равна 0,9, вторым – 0,7. Оба стрелка сделали по одному выстрелу. Какова вероятность того, что цель поражена два раза?\"))\n    cur.execute(r\"INSERT INTO TerVerPr3(TerVerPr3Id, question) VALUES(?, ?)\",\\\n        (5, r\"Вероятность поражения цели первым стрелком равна 0,9, вторым – 0,8. Оба стрелка сделали по одному выстрелу. Какова вероятность того, что цель поражена один раз, то есть попал только один стрелок?\"))\n    cur.execute(r\"INSERT INTO TerVerPr3(TerVerPr3Id, question) VALUES(?, ?)\",\\\n        (6, r\"Вычислительная машина состоит из четырех блоков. Вероятность безотказной работы в течение времени T первого блока равна 0,4, второго – 0,5, третьего – 0,6, четвертого – 0,4. Найти вероятность того, что в течение времени Т проработают все четыре блока.\"))\n    cur.execute(r\"INSERT INTO TerVerPr3(TerVerPr3Id, question) VALUES(?, ?)\",\\\n        (7, r\"Трое рабочих собирают подшипники. Вероятность того, что подшипник, собранный первым рабочим – высшего качества, равна 0,7, вторым – 0,8, третьим – 0,6. Для контроля взято по одному подшипнику из собранных каждым рабочим. Какова вероятность того, что высшего качества будут ровно два подшипника.\"))\n    cur.execute(r\"INSERT INTO TerVerPr3(TerVerPr3Id, question) VALUES(?, ?)\",\\\n        (8, r\"На сборку поступают детали с трех станков с ЧПУ. Первый станок дает 20 $\\%$, второй – 30 $\\%$, третий - 50  $\\%$ однотипных деталей, поступающих на сборку. Найти вероятность того, что из трех наугад взятых деталей  все три с разных станков.\"))\n    cur.execute(r\"INSERT INTO TerVerPr3(TerVerPr3Id, question) VALUES(?, ?)\",\\\n        (9, r\"Первый станок-автомат даёт 1 $\\%$ брака, второй – 1,5 $\\%$, а третий – 2 $\\%$. Случайным образом отобрали по одной детали с каждого станка. Какова вероятность того, что стандартными окажутся две или три детали.\"))\n    cur.execute(r\"INSERT INTO TerVerPr3(TerVerPr3Id, question) VALUES(?, ?)\",\\\n        (10, r\"В цехе имеется три резервных электродвигателя. Для каждого из них вероятность того, что в данный момент он включен, соответственно равна: 0,2; 0,3; 0,1. Найти вероятность того, что будет включен хотя бы один электродвигатель.\"))\n    cur.execute(r\"INSERT INTO TerVerPr3(TerVerPr3Id, question) VALUES(?, ?)\",\\\n        (11, r\"На участке кросса для мотоциклиста-гонщика имеется три препятствия. Вероятность успешного прохождения первого препятствия равна 0,4, второго – 0,5, третьего – 0,6. Найти вероятность успешного преодоления двух препятствий; \"))\n    cur.execute(r\"INSERT INTO TerVerPr3(TerVerPr3Id, question) VALUES(?, ?)\",\\\n        (12, r\"Вероятность того, что студент сдаст первый экзамен, равна 0,9, второй – 0,7, третий – 0,6. Вычислить вероятность того, что студент сдаст два экзамена. \"))\n    cur.execute(r\"INSERT INTO TerVerPr3(TerVerPr3Id, question) VALUES(?, ?)\",\\\n        (13, r\"Самолет противника обнаруживается тремя радиолокаторами с вероятностями 0,8; 0,7; 0,5. Какова вероятность обнаружения самолета двумя радиолокаторами? \"))\n    cur.execute(r\"INSERT INTO TerVerPr3(TerVerPr3Id, question) VALUES(?, ?)\",\\\n        (14, r\"Самолет противника обнаруживается тремя радиолокаторами с вероятностями 0,8; 0,7; 0,5. Какова вероятность обнаружения самолета одним радиолокатором? \"))\n    cur.execute(r\"INSERT INTO TerVerPr3(TerVerPr3Id, question) VALUES(?, ?)\",\\\n        (15, r\"Стрелок произвел четыре выстрела по удаляющейся от него цели, причем вероятность попадания в цель в начале стрельбы равна 0,7, а после каждого выстрела уменьшается на 0,1. Вычислить вероятность того, что цель будет поражена четыре раза.  \"))\n    cur.execute(r\"INSERT INTO TerVerPr3(TerVerPr3Id, question) VALUES(?, ?)\",\\\n        (16, r\"При некоторых определенных условиях вероятность сбить самолет противника из первого зенитного орудия равна 0,4, из второго – 0,5. Сделано по одному выстрелу. Найти вероятность того, что самолет уничтожен двумя снарядами.  \"))\n    cur.execute(r\"INSERT INTO TerVerPr3(TerVerPr3Id, question) VALUES(?, ?)\",\\\n        (17, r\"Вероятность выигрыша по лотерейному билету первого выпуска равна 0,2, второго – 0,3. Имеется по два билета каждого выпуска. Найти вероятность того, что выиграют три билета.\"))\n    cur.execute(r\"INSERT INTO TerVerPr3(TerVerPr3Id, question) VALUES(?, ?)\",\\\n        (18, r\"Три команды спортивного общества А состязаются соответственно с тремя командами общества В. Вероятности выигрышей первой, второй и третьей команд из общества А у соответствующих команд из общества В равны: 0,7; 0,6; 0,4. Команды провели по одной встрече. Какова вероятность того, что команды общества А выиграют две встречи. \"))\n    cur.execute(r\"INSERT INTO TerVerPr3(TerVerPr3Id, question) VALUES(?, ?)\",\\\n        (19, r\"Вероятность поражения цели первым стрелком при одном выстреле равна 0,7, вторым – 0,5. Найти вероятность того, что цель будет поражена двумя стрелками. \"))\n    cur.execute(r\"INSERT INTO TerVerPr3(TerVerPr3Id, question) VALUES(?, ?)\",\\\n        (20, r\"Вероятность поражения цели первым стрелком при одном выстреле равна 0,5, вторым – 0,8. Найти вероятность того, что цель будет поражена только  одним стрелком. \"))\n    cur.execute(r\"INSERT INTO TerVerPr3(TerVerPr3Id, question) VALUES(?, ?)\",\\\n        (21, r\"На железобетонном заводе изготовляют панели, 90 $\\%$ из которых – высшего сорта. Какова вероятность того, что из трёх наугад выбранных панелей высшего сорта будут две панели. \"))\n    cur.execute(r\"INSERT INTO TerVerPr3(TerVerPr3Id, question) VALUES(?, ?)\",\\\n        (22, r\"Три станка работают независимо друг от друга. Вероятность того, что первый станок в течение смены выйдет из строя, равна 0,1, второй – 0,2 и третий – 0,3. Найти вероятность того, что в течение смены выйдут из строя ровно два станка. \"))\n    cur.execute(r\"INSERT INTO TerVerPr3(TerVerPr3Id, question) VALUES(?, ?)\",\\\n        (23, r\"В ящике 50 $\\%$ деталей, изготовленных на заводе № 1, 20 $\\%$ – на заводе № 2 и 30 $\\%$ – на заводе № 3. Наугад взято три детали. Найти вероятность того, что все три детали – с завода №1.   \"))\n    cur.execute(r\"INSERT INTO TerVerPr3(TerVerPr3Id, question) VALUES(?, ?)\",\\\n        (24, r\" Вероятность поражения цели первым стрелком равна 0,7, вторым – 0,9. Оба стрелка сделали по одному выстрелу. Какова вероятность того, что цель будет поражена два раза?\"))\n    cur.execute(r\"INSERT INTO TerVerPr3(TerVerPr3Id, question) VALUES(?, ?)\",\\\n        (25, r\"На участке кросса для мотоциклиста-гонщика имеется три препятствия. Вероятность успешного прохождения первого препятствия равна 0,4, второго – 0,5, третьего – 0,6. Найти вероятность успешного преодоления двух препятствий; \"))\n\n    conn.commit()\n\n\n\n    cur.close()\nexcept sqlite3.Error as error:\n    print(\"Ошибка при подключении к sqlite\", error)\nfinally:\n    if (conn):\n        conn.close()\n        print(\"Соединение с SQLite закрыто\")",
      "metadata": {
        "source_hash": null,
        "execution_start": 1693774056856,
        "execution_millis": 53,
        "deepnote_to_be_reexecuted": false,
        "cell_id": "492e3d5316f14d0b898c0aa577358404",
        "deepnote_cell_type": "code"
      },
      "outputs": [
        {
          "name": "stdout",
          "text": "База данных создана и успешно подключена к SQLite\nСоединение с SQLite закрыто\n",
          "output_type": "stream"
        }
      ],
      "execution_count": null,
      "block_group": "c99c6524e71e4991a685411fe490dc9b"
    },
    {
      "cell_type": "code",
      "source": " # Создание БД\ntry:\n    conn = sqlite3.connect('questions.db')\n    cur = conn.cursor()\n    print(\"База данных создана и успешно подключена к SQLite\")\n\n    cur.execute(\"\"\"CREATE TABLE IF NOT EXISTS TerVerPr4(\n    TerVerPr4Id INT PRIMARY KEY,\n    question TEXT);\n    \"\"\")\n    conn.commit()\n\n    cur.execute(r\"INSERT INTO  TerVerPr4(TerVerPr4Id, question) VALUES(?, ?)\",\\\n        (1, r\"Детали попадают на обработку на один из трёх станков с вероятностями, соответственно равными: 0,2; 0,3; 0,5. Вероятность брака на первом станке равна 0,02, на втором – 0,03, на третьем – 0,01. Найти вероятность того, что случайно взятая после обработки деталь – стандартная.\"))\n    cur.execute(r\"INSERT INTO TerVerPr4(TerVerPr4Id, question) VALUES(?, ?)\",\\\n        (2, r\"Среди поступивших на сборку деталей 30 $\\%$ – с завода № 1, остальные – с завода № 2. Вероятность брака для завода № 1 равна 0,02, для завода № 2 – 0,03. Найти вероятность того, что наугад взятая деталь стандартная. \"))\n    cur.execute(r\"INSERT INTO TerVerPr4(TerVerPr4Id, question) VALUES(?, ?)\",\\\n        (3, r\"Три автомата изготовляют однотипные детали, которые поступают на общий конвейер. Производительности первого, второго и третьего автоматов соотносятся как 2:3:5. Вероятность того, что деталь с первого автомата – высшего качества, равна 0,8, для второго – 0,6, для третьего – 0,7. Найти вероятность того, что наугад взятая с конвейера деталь окажется высшего качества.\"))\n    cur.execute(r\"INSERT INTO TerVerPr4(TerVerPr4Id, question) VALUES(?, ?)\",\\\n        (4, r\"Комплектовщик получает для сборки 30 $\\%$ деталей с завода № 1, 20 $\\%$ – с завода № 2, остальные – с завода № 3. Вероятность того, что деталь с завода № 1 – высшего качества, равна 0,9, для деталей с завода № 2 – 0,8, для деталей с завода № 3 – 0,6. Найти вероятность того, что случайно взятая деталь – высшего качества.\"))\n    cur.execute(r\"INSERT INTO TerVerPr4(TerVerPr4Id, question) VALUES(?, ?)\",\\\n        (5, r\"Заготовка может поступить для обработки на один из двух станков с вероятностями 0,4 и 0,6 соответственно. При обработке на первом станке вероятность брака составляет 2 $\\%$, на втором – 3 $\\%$. Найти вероятность того, что наугад взятое после обработки изделие – стандартное.\"))\n    cur.execute(r\"INSERT INTO TerVerPr4(TerVerPr4Id, question) VALUES(?, ?)\",\\\n        (6, r\"На двух станках обрабатываются однотипные детали. Вероятность брака для станка № 1 составляет 0,03, для станка № 2 – 0,02. Обработанные детали складываются в одном месте, причем деталей, обработанных на станке № 1, вдвое больше, чем на станке № 2. Найти вероятность того, что взятая наугад деталь будет стандартной.\"))\n    cur.execute(r\"INSERT INTO TerVerPr4(TerVerPr4Id, question) VALUES(?, ?)\",\\\n        (7, r\"В дисплейном классе имеется 10 персональных компьютеров первого типа и 15 второго типа. Вероятность того, что за время работы на компьютере первого типа не произойдет сбоя, равна 0,9, а на компьютере второго типа – 0,7. Найти вероятность того, что на случайно выбранном компьютере за время работы не произойдет сбоя.\"))\n    cur.execute(r\"INSERT INTO TerVerPr4(TerVerPr4Id, question) VALUES(?, ?)\",\\\n        (8, r\"В пяти ящиках с 30 шарами в каждом содержится по 5 красных шаров, в шести других ящиках с 20 шарами в каждом – по 4 красных шара. Найти вероятность того, что из наугад взятого ящика наудачу взятый шар будет красным.\"))\n    cur.execute(r\"INSERT INTO TerVerPr4(TerVerPr4Id, question) VALUES(?, ?)\",\\\n        (9, r\"По линии связи передано два сигнала типа А и В с вероятностями соответственно 0,8 и 0,2. В среднем принимается 60 $\\%$ сигналов типа А и 70 $\\%$ типа В. Найти вероятность того, что посланный сигнал будет принят.\"))\n    cur.execute(r\"INSERT INTO TerVerPr4(TerVerPr4Id, question) VALUES(?, ?)\",\\\n        (10, r\"Для сигнализации о том, что режим работы автоматической линии отклоняется от нормального, используются индикаторы двух типов. Вероятности того, что индикатор принадлежит к одному из двух типов, соответственно равны 0,4 и 0,6. При нарушении работы линии вероятность срабатывания индикатора первого типа равна 0,9, второго – 0,7.  Найти вероятность того, что наугад выбранный индикатор сработает при нарушении нормальной работы линии. \"))\n    cur.execute(r\"INSERT INTO TerVerPr4(TerVerPr4Id, question) VALUES(?, ?)\",\\\n        (11, r\"Резистор, поставленный в телевизор, может принадлежать к одной из двух партий с вероятностями 0,6 и 0,4. Вероятности того, что резистор проработает гарантийное число часов, для этих партий соответственно равны 0,8 и 0,7. Найти вероятность того, что взятый наугад резистор проработает гарантийное число часов.\"))\n    cur.execute(r\"INSERT INTO TerVerPr4(TerVerPr4Id, question) VALUES(?, ?)\",\\\n        (12, r\"При отклонении от штатного режима работы поточной линии срабатывают сигнализатор типа Т-1 с вероятностью 0,9 и сигнализатор типа Т-2 с вероятностью 0,8. Вероятности того, что линия снабжена сигнализаторами типов Т-1 и Т-2, соответственно равны 0,7 и 0,3.  Найти вероятность того, что при отклонении от штатного режима работы сигнализатор сработает.\"))\n    cur.execute(r\"INSERT INTO TerVerPr4(TerVerPr4Id, question) VALUES(?, ?)\",\\\n        (13, r\"Для участия в студенческих спортивных соревнованиях выделено 10 человек из первой группы и 8 из второй. Вероятность того, что студент первой группы попадет в сборную института, равна 0,8, а для студента второй группы – 0,7.  Найти вероятность того, что случайно выбранный студент попал в сборную института. \"))\n    cur.execute(r\"INSERT INTO TerVerPr4(TerVerPr4Id, question) VALUES(?, ?)\",\\\n        (14, r\" На сборку поступают детали с трех конвейеров. Первый дает 25 $\\%$, второй~– 30 $\\%$ и третий – 45 $\\%$ деталей, поступающих на сборку. С первого конвейера в среднем поступает 2 $\\%$ брака, со второго – 3 $\\%$, с третьего – 1~$\\%$. Найти вероятность того, что на сборку поступила бракованная деталь.\"))\n    cur.execute(r\"INSERT INTO TerVerPr4(TerVerPr4Id, question) VALUES(?, ?)\",\\\n        (15, r\"На сборку поступают детали с трех конвейеров. Первый дает 25 $\\%$, второй~– 30 $\\%$ и третий - 45 $\\%$ деталей, поступающих на сборку. С первого конвейера в среднем поступает 4 $\\%$ брака, со второго – 2 $\\%$, с третьего – 1~$\\%$. Найти вероятность того, что на сборку поступила бракованная деталь.\"))\n    cur.execute(r\"INSERT INTO TerVerPr4(TerVerPr4Id, question) VALUES(?, ?)\",\\\n        (16, r\"У сборщика 16 деталей, изготовленных на заводе № 1 и 10 деталей, изготовленных на заводе № 2. Вероятности того, что детали выдержат гарантийный срок, соответственно равны: для деталей с завода № 1 – 0,8; с завода № 2 – 0,9.  Найти вероятность того, что взятая наугад деталь проработает гарантийный срок.\"))\n    cur.execute(r\"INSERT INTO TerVerPr4(TerVerPr4Id, question) VALUES(?, ?)\",\\\n        (17, r\"Телеграфное сообщение состоит из сигналов <<точка>> и <<тире>>, они встречаются в передаваемых сообщениях в отношении 5:3. Статические свойства помех таковы, что искажаются в среднем 2/5 сообщений <<точка>> и 1/3 со- общений <<тире>>. Найти вероятность того, что передаваемый сигнал принят.\"))\n    cur.execute(r\"INSERT INTO TerVerPr4(TerVerPr4Id, question) VALUES(?, ?)\",\\\n        (18, r\" Для поисков спускаемого аппарата космического корабля выделено 4 вертолета первого типа и 6 вертолетов второго типа. Каждый вертолет первого типа обнаруживает находящийся в районе поиска аппарат с вероятностью 0,6, второго типа – с вероятностью 0,7.  Найти вероятность того, что наугад выбранный вертолет обнаружит аппарат.\"))\n    cur.execute(r\"INSERT INTO TerVerPr4(TerVerPr4Id, question) VALUES(?, ?)\",\\\n        (19, r\"Для поисков спускаемого аппарата космического корабля выделено 4 вертолета первого типа и 6 вертолетов второго типа. Каждый вертолет первого типа обнаруживает находящийся в районе поиска аппарат с вероятностью 0,6, второго типа – с вероятностью 0,7.  Найти вероятность того, что наугад выбранный вертолет обнаружит аппарат.\"))\n    cur.execute(r\"INSERT INTO TerVerPr4(TerVerPr4Id, question) VALUES(?, ?)\",\\\n        (20, r\"Прибор состоит из двух узлов одного типа и трех узлов второго типа. Надежность работы в течение времени Т для узла первого типа равна 0,8, а для узла второго типа\t– 0,7.  Найти вероятность того, что наугад выбранный узел проработает в течение времени Т.\"))\n    cur.execute(r\"INSERT INTO TerVerPr4(TerVerPr4Id, question) VALUES(?, ?)\",\\\n        (21, r\"Пассажир может обратиться за получением билета в одну из трех касс вокзала А или в одну из пяти касс вокзала В. Вероятность того, что к моменту прихода пассажира в кассах вокзала A имеются в продаже билеты, равна 0,6, в кассах вокзала В – 0,5.  Найти вероятность того, что в наугад выбранной кассе имеется в продаже билет.\"))\n    cur.execute(r\"INSERT INTO TerVerPr4(TerVerPr4Id, question) VALUES(?, ?)\",\\\n        (22, r\" В вычислительной лаборатории 40 $\\%$ микрокалькуляторов и 60 $\\%$ дисплеев. Во время расчета 90 $\\%$ микрокалькуляторов и 80 $\\%$ дисплеев работают безотказно. Найти вероятность того, что наугад взятая вы- числительная машина проработает безотказно во время расчета.  \"))\n    cur.execute(r\"INSERT INTO TerVerPr4(TerVerPr4Id, question) VALUES(?, ?)\",\\\n        (23, r\"В состав блока входят 6 радиоламп первого типа и 10 второго. Гарантийный срок обычно выдерживают 80 $\\%$ радиоламп первого типа и 90 $\\%$ второго типа. Найти вероятность того, что: а) наугад взятая радиолампа выдержит гарантийный срок.\"))\n    cur.execute(r\"INSERT INTO TerVerPr4(TerVerPr4Id, question) VALUES(?, ?)\",\\\n        (24, r\"Комплектовщик получает для сборки 30 $\\%$ деталей с завода № 1, 20 $\\%$ – с завода № 2, остальные – с завода № 3. Вероятность того, что деталь с завода № 1 – высшего качества, равна 0,9, для деталей с завода № 2 – 0,8, для деталей с завода № 3 – 0,6. Найти вероятность того, что случайно взятая деталь – высшего качества.\"))\n    cur.execute(r\"INSERT INTO TerVerPr4(TerVerPr4Id, question) VALUES(?, ?)\",\\\n        (25, r\" Резистор, поставленный в телевизор, может принадлежать к одной из двух партий с вероятностями 0,6 и 0,4. Вероятности того, что резистор проработает гарантийное число часов, для этих партий соответственно равны 0,8 и 0,7. Найти вероятность того, что взятый наугад резистор проработает гарантийное число часов.\"))\n\n    conn.commit()\n\n\n\n    cur.close()\nexcept sqlite3.Error as error:\n    print(\"Ошибка при подключении к sqlite\", error)\nfinally:\n    if (conn):\n        conn.close()\n        print(\"Соединение с SQLite закрыто\")",
      "metadata": {
        "source_hash": null,
        "execution_start": 1693774056877,
        "execution_millis": 46,
        "deepnote_to_be_reexecuted": false,
        "cell_id": "4d939186df734c8ca4f6d80062b5b5d6",
        "deepnote_cell_type": "code"
      },
      "outputs": [
        {
          "name": "stdout",
          "text": "База данных создана и успешно подключена к SQLite\nСоединение с SQLite закрыто\n",
          "output_type": "stream"
        }
      ],
      "execution_count": null,
      "block_group": "1b5eca5f1f174421b6a332af3b0153fe"
    },
    {
      "cell_type": "code",
      "source": "# Создание БД\ntry:\n    conn = sqlite3.connect('questions.db')\n    cur = conn.cursor()\n    print(\"База данных создана и успешно подключена к SQLite\")\n\n    cur.execute(\"\"\"CREATE TABLE IF NOT EXISTS TerVerPr5(\n    TerVerPr5Id INT PRIMARY KEY,\n    question TEXT);\n    \"\"\")\n    conn.commit()\n\n    cur.execute(r\"INSERT INTO  TerVerPr5(TerVerPr5Id, question) VALUES(?, ?)\",\\\n        (1, r\"В семье четверо детей, принимая равновероятным рождение мальчика и девочки, найти вероятность того, что мальчиков в семье два или три.\"))\n    cur.execute(r\"INSERT INTO TerVerPr5(TerVerPr5Id, question) VALUES(?, ?)\",\\\n        (2, r\"В семье четверо детей, принимая равновероятным рождение мальчика и девочки, найти вероятность того, что мальчиков в семье три или четыре.\"))\n    cur.execute(r\"INSERT INTO TerVerPr5(TerVerPr5Id, question) VALUES(?, ?)\",\\\n        (3, r\"Вероятность выигрыша по одной облигации трехпроцентного займа равна 0,25. Найти вероятность того, что из восьми купленных облигаций выигрышными окажутся две или три. \"))\n    cur.execute(r\"INSERT INTO TerVerPr5(TerVerPr5Id, question) VALUES(?, ?)\",\\\n        (4, r\"Вероятность успешной сдачи студентом каждого из пяти экзаменов равна 0,7. Найти вероятность успешной сдачи двух или трех экзаменов.\"))\n    cur.execute(r\"INSERT INTO TerVerPr5(TerVerPr5Id, question) VALUES(?, ?)\",\\\n        (5, r\"Вероятность успешной сдачи студентом каждого из пяти экзаменов равна 0,8. Найти вероятность успешной сдачи  трех или четырех экзаменов.\"))\n    cur.execute(r\"INSERT INTO TerVerPr5(TerVerPr5Id, question) VALUES(?, ?)\",\\\n        (6, r\"В телеателье имеется 7 телевизоров. Для каждого телевизора вероятность того, что в данный момент он включен, равна 0,6. Найти вероятность того, что в данный момент включены три или четыре телевизора.\"))\n    cur.execute(r\"INSERT INTO TerVerPr5(TerVerPr5Id, question) VALUES(?, ?)\",\\\n        (7, r\"При массовом производстве полупроводниковых диодов вероятность брака при формовке равна 0,1. Найти вероятность того, что из восьми диодов, проверяемых ОТК, бракованных будет два. \"))\n    cur.execute(r\"INSERT INTO TerVerPr5(TerVerPr5Id, question) VALUES(?, ?)\",\\\n        (8, r\"Вероятность поражения мишени для данного стрелка в среднем составляет 80 $\\%$. Стрелок произвел 6 выстрелов по мишени. Найти вероятность того, что мишень была поражена четыре или пять раз.\"))\n    cur.execute(r\"INSERT INTO TerVerPr5(TerVerPr5Id, question) VALUES(?, ?)\",\\\n        (9, r\"Вероятность сдачи экзамена для каждого из шести студентов равна 0,8. Найти вероятность того, что экзамен сдадут пять студентов.\"))\n    cur.execute(r\"INSERT INTO TerVerPr5(TerVerPr5Id, question) VALUES(?, ?)\",\\\n        (10, r\"Вероятность поражения в каждой шахматной партии для игрока равна 0,5. Найти вероятность того, что он выиграл в шести партиях ровно три раза.\"))\n    cur.execute(r\"INSERT INTO TerVerPr5(TerVerPr5Id, question) VALUES(?, ?)\",\\\n        (11, r\"Всхожесть семян лимона составляет 80 $\\%$. Найти вероятность того, что из 9 посеянных семян взойдут семь.\"))\n    cur.execute(r\"INSERT INTO TerVerPr5(TerVerPr5Id, question) VALUES(?, ?)\",\\\n        (12, r\"Всхожесть семян лимона составляет 90 $\\%$. Найти вероятность того, что из 10 посеянных семян взойдут восемь.\"))\n    cur.execute(r\"INSERT INTO TerVerPr5(TerVerPr5Id, question) VALUES(?, ?)\",\\\n        (13, r\"Среди изделий, подвергавшихся термической обработке, в среднем 80 $\\%$ высшего сорта. Найти вероятность того, что среди пяти изделий четыре высшего сорта. \"))\n    cur.execute(r\"INSERT INTO TerVerPr5(TerVerPr5Id, question) VALUES(?, ?)\",\\\n        (14, r\"Среди изделий, подвергавшихся термической обработке, в среднем 80 $\\%$ высшего сорта. Найти вероятность того, что среди шести изделий четыре высшего сорта. \"))\n    cur.execute(r\"INSERT INTO TerVerPr5(TerVerPr5Id, question) VALUES(?, ?)\",\\\n        (15, r\"Оптовая база обслуживает 6 магазинов. Вероятность получения заявки базой на данный день для каждого из магазинов равна 0,6. Найти вероятность того, что в этот день будет пять заявок.\"))\n    cur.execute(r\"INSERT INTO TerVerPr5(TerVerPr5Id, question) VALUES(?, ?)\",\\\n        (16, r\"Продукция, поступающая из цеха в ОТК, удовлетворяет условиям стандарта в среднем в 80 $\\%$  случаев. Найти вероятность того, что из наугад взятых семи изделий удовлетворяют условиям стандарта пять или шесть изделий.\"))\n    cur.execute(r\"INSERT INTO TerVerPr5(TerVerPr5Id, question) VALUES(?, ?)\",\\\n        (17, r\"Вероятность поражения цели при одном выстреле равна 0,4. Произведено 5 выстрелов. Найти вероятность поражения цели ровно три раза.\"))\n    cur.execute(r\"INSERT INTO TerVerPr5(TerVerPr5Id, question) VALUES(?, ?)\",\\\n        (18, r\"Вероятность поражения цели при одном выстреле равна 0,6. Произведено 5 выстрелов. Найти вероятность поражения цели ровно три раза.\"))\n    cur.execute(r\"INSERT INTO TerVerPr5(TerVerPr5Id, question) VALUES(?, ?)\",\\\n        (19, r\"Вероятность поражения цели при одном выстреле равна 0,7. Произведено 4 выстрела. Найти вероятность поражения цели ровно два раза.\"))\n    cur.execute(r\"INSERT INTO TerVerPr5(TerVerPr5Id, question) VALUES(?, ?)\",\\\n        (20, r\"Среди деталей, изготавливаемых рабочим, в среднем 2$\\%$ нестандартных. Найти вероятность того, что среди взятых на испытание пяти деталей три нестандартных.\"))\n    cur.execute(r\"INSERT INTO TerVerPr5(TerVerPr5Id, question) VALUES(?, ?)\",\\\n        (21, r\"В семье четверо детей, принимая равновероятным рождение мальчика и девочки, найти вероятность того, что мальчиков в семье два или три.\"))\n    cur.execute(r\"INSERT INTO TerVerPr5(TerVerPr5Id, question) VALUES(?, ?)\",\\\n        (22, r\"Вероятность поражения цели при одном выстреле равна 0,8. Произведено 7 выстрелов. Найти вероятность того, что имело место четыре поражения цели.\"))\n    cur.execute(r\"INSERT INTO TerVerPr5(TerVerPr5Id, question) VALUES(?, ?)\",\\\n        (23, r\"Вероятность поражения цели каждым из семи выстрелов равна 0,8. Найти вероятность поражения цели ровно тремя выстрелами.\"))\n    cur.execute(r\"INSERT INTO TerVerPr5(TerVerPr5Id, question) VALUES(?, ?)\",\\\n        (24, r\"Вероятность успешной сдачи студентом каждого из пяти экзаменов равна 0,9. Найти вероятность успешной сдачи четырех экзаменов.\"))\n    cur.execute(r\"INSERT INTO TerVerPr5(TerVerPr5Id, question) VALUES(?, ?)\",\\\n        (25, r\"Всхожесть семян лимона составляет 80 $\\%$. Найти вероятность того, что из 9 посеянных семян взойдут семь.\"))\n\n    conn.commit()\n\n\n\n    cur.close()\nexcept sqlite3.Error as error:\n    print(\"Ошибка при подключении к sqlite\", error)\nfinally:\n    if (conn):\n        conn.close()\n        print(\"Соединение с SQLite закрыто\")",
      "metadata": {
        "source_hash": null,
        "execution_start": 1693774056914,
        "execution_millis": 71,
        "deepnote_to_be_reexecuted": false,
        "cell_id": "7075b32eac60440794f7551e971e5685",
        "deepnote_cell_type": "code"
      },
      "outputs": [
        {
          "name": "stdout",
          "text": "База данных создана и успешно подключена к SQLite\nСоединение с SQLite закрыто\n",
          "output_type": "stream"
        }
      ],
      "execution_count": null,
      "block_group": "b90eb35e87de4db6a391c4eef150b356"
    },
    {
      "cell_type": "code",
      "source": "# Создание БД\ntry:\n    conn = sqlite3.connect('questions.db')\n    cur = conn.cursor()\n    print(\"База данных создана и успешно подключена к SQLite\")\n\n    cur.execute(\"\"\"CREATE TABLE IF NOT EXISTS TerVerPr7(\n    TerVerPr7Id INT PRIMARY KEY,\n    question TEXT);\n    \"\"\")\n    conn.commit()\n\n    cur.execute(r\"INSERT INTO  TerVerPr7(TerVerPr7Id, question) VALUES(?, ?)\",\\\n        (1, r\"Вычислить $C_6^4$; $A_6^2$; $P_6$.\"))\n    cur.execute(r\"INSERT INTO TerVerPr7(TerVerPr7Id, question) VALUES(?, ?)\",\\\n        (2, r\"Вычислить $C_7^5$; $A_5^2$; $P_7$.\"))\n    cur.execute(r\"INSERT INTO TerVerPr7(TerVerPr7Id, question) VALUES(?, ?)\",\\\n        (3, r\"Вычислить\t$C_{10}^3$;  $A_7^4$;  $P_3$.\"))\n    cur.execute(r\"INSERT INTO TerVerPr7(TerVerPr7Id, question) VALUES(?, ?)\",\\\n        (4, r\"Вычислить $C_{9}^3$; $A_9^4$; $P_7$.\"))\n    cur.execute(r\"INSERT INTO TerVerPr7(TerVerPr7Id, question) VALUES(?, ?)\",\\\n        (5, r\"Вычислить $C_{7}^3\\cdot 3!$; $\\frac{A_9^4}{0!}$; $P_4$.\"))\n    cur.execute(r\"INSERT INTO TerVerPr7(TerVerPr7Id, question) VALUES(?, ?)\",\\\n        (6, r\"Вычислить $C_{25}^{23}\\cdot 3!$; $A_9^4$; $\\frac{P_4}{3!}$.\"))\n    cur.execute(r\"INSERT INTO TerVerPr7(TerVerPr7Id, question) VALUES(?, ?)\",\\\n        (7, r\"Вычислить $C_{21}^{19}\\cdot 4!$;  $A_6^4$; $\\frac{7!}{P_4}$.\"))\n    cur.execute(r\"INSERT INTO TerVerPr7(TerVerPr7Id, question) VALUES(?, ?)\",\\\n        (8, r\"Вычислить $C_{17}^{15}\\cdot 3!$;  $A_9^7$;  $\\frac{8!}{P_5}$.\"))\n    cur.execute(r\"INSERT INTO TerVerPr7(TerVerPr7Id, question) VALUES(?, ?)\",\\\n        (9, r\"Вычислить $C_{31}^{29}\\cdot 4!$;  $A_{10}^8$; $\\frac{10!}{P_8}$.\"))\n    cur.execute(r\"INSERT INTO TerVerPr7(TerVerPr7Id, question) VALUES(?, ?)\",\\\n        (10, r\"Вычислить $C_{41}^{39}\\cdot 4!$;  $A_{12}^{10}$; $\\frac{10!}{P_7}$.\"))\n    cur.execute(r\"INSERT INTO TerVerPr7(TerVerPr7Id, question) VALUES(?, ?)\",\\\n        (11, r\"Вычислить $C_{39}^{36}$; $A_{13}^{10}$; $\\frac{5!}{P_7}$.\"))\n    cur.execute(r\"INSERT INTO TerVerPr7(TerVerPr7Id, question) VALUES(?, ?)\",\\\n        (12, r\"Вычислить $C_{37}^{35}$; $A_{14}^{12}$; $\\frac{11!}{P_8}$.\"))\n    cur.execute(r\"INSERT INTO TerVerPr7(TerVerPr7Id, question) VALUES(?, ?)\",\\\n        (13, r\"Вычислить $C_{17}^{3}$; $A_{11}^{8}$; $\\frac{6!}{P_8}$.\"))\n    cur.execute(r\"INSERT INTO TerVerPr7(TerVerPr7Id, question) VALUES(?, ?)\",\\\n        (14, r\"C_{17}^{13}$; $A_{12}^{8}$;  $\\frac{12!}{P_9}$.\"))\n    cur.execute(r\"INSERT INTO TerVerPr7(TerVerPr7Id, question) VALUES(?, ?)\",\\\n        (15, r\"C_{12}^{7}$; $A_{14}^{10}$; $\\frac{11!}{P_9}$.\"))\n    cur.execute(r\"INSERT INTO TerVerPr7(TerVerPr7Id, question) VALUES(?, ?)\",\\\n        (16, r\"C_{16}^{13}$; $A_{16}^{3}$; $\\frac{13!}{P_{10}}$.\"))\n    cur.execute(r\"INSERT INTO TerVerPr7(TerVerPr7Id, question) VALUES(?, ?)\",\\\n        (17, r\"C_{17}^{3}$; $A_{20}^{3}$; $\\frac{13!}{P_{10}}$.\"))\n    cur.execute(r\"INSERT INTO TerVerPr7(TerVerPr7Id, question) VALUES(?, ?)\",\\\n        (18, r\"C_{15}^{5}$; $A_{11}^{3}$; $\\frac{10!}{P_{10}}$.\"))\n    cur.execute(r\"INSERT INTO TerVerPr7(TerVerPr7Id, question) VALUES(?, ?)\",\\\n        (19, r\"C_{10}^{2}$; $A_{10}^{3}$; $\\frac{9!}{P_{10}}$.\"))\n    cur.execute(r\"INSERT INTO TerVerPr7(TerVerPr7Id, question) VALUES(?, ?)\",\\\n        (20, r\"C_{14}^{3}$; $A_{7}^{2}$; $\\frac{9! \\cdot 11}{P_{11}}$.\"))\n    cur.execute(r\"INSERT INTO TerVerPr7(TerVerPr7Id, question) VALUES(?, ?)\",\\\n        (21, r\"C_5^2$; $A_6^2$; $P_4 \\cdot 0!$.\"))\n    cur.execute(r\"INSERT INTO TerVerPr7(TerVerPr7Id, question) VALUES(?, ?)\",\\\n        (22, r\"C_7^5$; $A_6^2$; $P_7$.\"))\n    cur.execute(r\"INSERT INTO TerVerPr7(TerVerPr7Id, question) VALUES(?, ?)\",\\\n        (23, r\"C_{11}^4$; $A_11^4$; $P_5$.\"))\n    cur.execute(r\"INSERT INTO TerVerPr7(TerVerPr7Id, question) VALUES(?, ?)\",\\\n        (24, r\"C_{9}^3$; $A_9^4$; $P_7\\cdot 0!.\"))\n    cur.execute(r\"INSERT INTO TerVerPr7(TerVerPr7Id, question) VALUES(?, ?)\",\\\n        (25, r\"C_{39}^{36}$; $A_{13}^{10}$; $\\frac{5!}{P_7}.\"))\n\n    conn.commit()\n\n\n\n    cur.close()\nexcept sqlite3.Error as error:\n    print(\"Ошибка при подключении к sqlite\", error)\nfinally:\n    if (conn):\n        conn.close()\n        print(\"Соединение с SQLite закрыто\")",
      "metadata": {
        "source_hash": null,
        "execution_start": 1693774056938,
        "execution_millis": 57,
        "deepnote_to_be_reexecuted": false,
        "cell_id": "978f4cdb195e409ab55f25b4f12ff978",
        "deepnote_cell_type": "code"
      },
      "outputs": [
        {
          "name": "stdout",
          "text": "База данных создана и успешно подключена к SQLite\nСоединение с SQLite закрыто\n",
          "output_type": "stream"
        }
      ],
      "execution_count": null,
      "block_group": "8ed12174578b410bbea735034cc2cd47"
    },
    {
      "cell_type": "markdown",
      "source": "1. Необходимо добавить таблицу в которой содержаться вопросы практики из тервера\n2. Создать таблицы вопросов основного экзамена, назвать типо EQ1,EQ2,EQ3 ...\n3. Подумать и добавить быть может еще вопросов)\n4. ~Дико чилить и творить красиво что-то~",
      "metadata": {
        "cell_id": "80d36148982b457cbc70f6bab941b636",
        "deepnote_cell_type": "markdown"
      },
      "block_group": "e349263c990f49f0bee920b4dcfd801d"
    },
    {
      "cell_type": "markdown",
      "source": "<a style='text-decoration:none;line-height:16px;display:flex;color:#5B5B62;padding:10px;justify-content:end;' href='https://deepnote.com?utm_source=created-in-deepnote-cell&projectId=1d802695-4bc8-4e2f-a465-d0c860ff7968' target=\"_blank\">\n<img alt='Created in deepnote.com' style='display:inline;max-height:16px;margin:0px;margin-right:7.5px;' src='data:image/svg+xml;base64,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' > </img>\nCreated in <span style='font-weight:600;margin-left:4px;'>Deepnote</span></a>",
      "metadata": {
        "created_in_deepnote_cell": true,
        "deepnote_cell_type": "markdown"
      }
    }
  ],
  "nbformat": 4,
  "nbformat_minor": 0,
  "metadata": {
    "deepnote": {},
    "orig_nbformat": 2,
    "deepnote_notebook_id": "0337ceadbf19442ebd292dd3fa19641e",
    "deepnote_persisted_session": {
      "createdAt": "2023-09-03T21:16:24.729Z"
    },
    "deepnote_execution_queue": []
  }
}