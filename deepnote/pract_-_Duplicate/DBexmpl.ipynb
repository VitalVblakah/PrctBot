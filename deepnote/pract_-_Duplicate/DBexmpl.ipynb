{
  "cells": [
    {
      "cell_type": "code",
      "source": "import sqlite3",
      "metadata": {
        "source_hash": null,
        "execution_start": 1691000737318,
        "execution_millis": 8,
        "deepnote_to_be_reexecuted": false,
        "cell_id": "858ec3b76c78424cb4b5e5a7298b9cff",
        "deepnote_cell_type": "code"
      },
      "outputs": [],
      "execution_count": null,
      "block_group": "9023afae66db486eae076fe5c0de0044"
    },
    {
      "cell_type": "code",
      "source": "# Создание БД\ntry:\n    conn = sqlite3.connect('questions.db')\n    cur = conn.cursor()\n    print(\"База данных создана и успешно подключена к SQLite\")\n\n    cur.execute(\"\"\"CREATE TABLE IF NOT EXISTS Q1(\n    qid INT PRIMARY KEY,\n    question TEXT);\n    \"\"\")\n    conn.commit()\n\n    cur.execute(r\"INSERT INTO Q1(qid, question) VALUES(?, ?)\",\\\n        (1, r\"\\lim\\limits_{x\\to \\infty} \\frac{15 x^5+13x^3-x}{4 x^2+6 x^5-2 x}\"))\n    cur.execute(r\"INSERT INTO Q1(qid, question) VALUES(?, ?)\",\\\n        (2, r\"\\lim\\limits_{x\\to 3} \\frac{x^2 - 3x}{6x - 18}\"))\n    cur.execute(r\"INSERT INTO Q1(qid, question) VALUES(?, ?)\",\\\n        (3, r\"\\lim\\limits_{x\\to \\infty} \\frac{3x^7+13x^5-1288x}{76x^2+ 9x^7 - 245x}\"))\n    conn.commit()\n    \n    cur.execute(\"SELECT question FROM Q1 WHERE qid = 2 \")\n    record =  cur.fetchone()\n\n    print(record)\n    cur.close()\n\nexcept sqlite3.Error as error:\n    print(\"Ошибка при подключении к sqlite\", error)\nfinally:\n    if (conn):\n        conn.close()\n        print(\"Соединение с SQLite закрыто\")",
      "metadata": {
        "source_hash": null,
        "execution_start": 1691000737325,
        "execution_millis": 51,
        "deepnote_to_be_reexecuted": false,
        "cell_id": "6cd75ad724d4496da4fc865044b26f52",
        "deepnote_cell_type": "code"
      },
      "outputs": [
        {
          "name": "stdout",
          "text": "База данных создана и успешно подключена к SQLite\n('\\\\lim\\\\limits_{x\\\\to 3} \\\\frac{x^2 - 3x}{6x - 18}',)\nСоединение с SQLite закрыто\n",
          "output_type": "stream"
        }
      ],
      "execution_count": null,
      "block_group": "0a20c8d71a014489b29cf45c629e5cc6"
    },
    {
      "cell_type": "code",
      "source": "",
      "metadata": {
        "source_hash": null,
        "execution_start": 1691000737377,
        "execution_millis": 7,
        "deepnote_to_be_reexecuted": false,
        "cell_id": "ee0ea5c891614fe2a12e08433dc6620a",
        "deepnote_cell_type": "code"
      },
      "outputs": [],
      "execution_count": null,
      "block_group": "ce6caa069dd8463bb480274993571b69"
    },
    {
      "cell_type": "markdown",
      "source": "<a style='text-decoration:none;line-height:16px;display:flex;color:#5B5B62;padding:10px;justify-content:end;' href='https://deepnote.com?utm_source=created-in-deepnote-cell&projectId=1d802695-4bc8-4e2f-a465-d0c860ff7968' target=\"_blank\">\n<img alt='Created in deepnote.com' style='display:inline;max-height:16px;margin:0px;margin-right:7.5px;' src='data:image/svg+xml;base64,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' > </img>\nCreated in <span style='font-weight:600;margin-left:4px;'>Deepnote</span></a>",
      "metadata": {
        "created_in_deepnote_cell": true,
        "deepnote_cell_type": "markdown"
      }
    }
  ],
  "nbformat": 4,
  "nbformat_minor": 0,
  "metadata": {
    "deepnote": {},
    "orig_nbformat": 2,
    "deepnote_notebook_id": "51abc1a34d9e497f88262c7c4668c648",
    "deepnote_execution_queue": []
  }
}